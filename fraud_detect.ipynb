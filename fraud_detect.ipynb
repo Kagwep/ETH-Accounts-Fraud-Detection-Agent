{
 "cells": [
  {
   "cell_type": "code",
   "execution_count": 1,
   "metadata": {},
   "outputs": [
    {
     "name": "stderr",
     "output_type": "stream",
     "text": [
      "2024-06-07 20:04:43.834811: I external/local_tsl/tsl/cuda/cudart_stub.cc:32] Could not find cuda drivers on your machine, GPU will not be used.\n",
      "2024-06-07 20:04:43.837985: I external/local_tsl/tsl/cuda/cudart_stub.cc:32] Could not find cuda drivers on your machine, GPU will not be used.\n",
      "2024-06-07 20:04:43.890224: I tensorflow/core/platform/cpu_feature_guard.cc:210] This TensorFlow binary is optimized to use available CPU instructions in performance-critical operations.\n",
      "To enable the following instructions: AVX2 AVX512F FMA, in other operations, rebuild TensorFlow with the appropriate compiler flags.\n",
      "2024-06-07 20:04:45.227213: W tensorflow/compiler/tf2tensorrt/utils/py_utils.cc:38] TF-TRT Warning: Could not find TensorRT\n"
     ]
    }
   ],
   "source": [
    "import numpy as np\n",
    "import pandas as pd\n",
    "import tensorflow as tf\n",
    "from sklearn.model_selection import train_test_split\n",
    "from sklearn.preprocessing import MinMaxScaler\n",
    "from sklearn.metrics import f1_score, roc_auc_score, recall_score, accuracy_score, precision_score\n",
    "import matplotlib\n",
    "import matplotlib.pyplot as plt\n",
    "import seaborn as sns\n",
    "matplotlib.rcParams['figure.figsize'] = (11.0, 8.0)\n",
    "\n",
    "import warnings\n",
    "warnings.filterwarnings('ignore')\n"
   ]
  },
  {
   "cell_type": "code",
   "execution_count": 2,
   "metadata": {},
   "outputs": [],
   "source": [
    "#Importing Data\n",
    "df = pd.read_csv('./address_data_combined.csv')\n",
    "X = df.drop(columns=['Address', 'FLAG'])\n",
    "y = df['FLAG']\n",
    "X_train_full, X_test, y_train_full, y_test = train_test_split(X, y, test_size=0.3, random_state=42, stratify=y)\n",
    "\n",
    "\n",
    "columns = ['Avg min between sent tnx', 'Avg min between received tnx',\n",
    "       'Time Diff between first and last (Mins)',\n",
    "       'Unique Received From Addresses', 'min value received',\n",
    "       'max value received ', 'avg val received', 'min val sent',\n",
    "       'avg val sent', 'total transactions (including tnx to create contract',\n",
    "       'total ether received', 'total ether balance']\n",
    "    \n",
    "scaler = MinMaxScaler()"
   ]
  },
  {
   "cell_type": "code",
   "execution_count": 3,
   "metadata": {},
   "outputs": [
    {
     "data": {
      "text/plain": [
       "array([[False, False, False, ..., False, False, False],\n",
       "       [False, False, False, ..., False, False, False],\n",
       "       [False, False, False, ..., False, False, False],\n",
       "       ...,\n",
       "       [False, False, False, ..., False, False, False],\n",
       "       [False, False, False, ..., False, False, False],\n",
       "       [False, False, False, ..., False, False, False]])"
      ]
     },
     "execution_count": 3,
     "metadata": {},
     "output_type": "execute_result"
    }
   ],
   "source": [
    "# Log for Skewed Data\n",
    "for c in columns:\n",
    "    X_train_full[c] = X_train_full[c].apply(lambda x: np.log(x) if x > 0 else 0)\n",
    "    X_test[c] = X_test[c].apply(lambda x: np.log(x) if x > 0 else 0)\n",
    "\n",
    "# Scaling\n",
    "X_train_full = scaler.fit_transform(X_train_full)\n",
    "X_test = scaler.transform(X_test)\n",
    "\n",
    "np.isnan(X_train_full)"
   ]
  },
  {
   "cell_type": "code",
   "execution_count": 4,
   "metadata": {},
   "outputs": [
    {
     "name": "stderr",
     "output_type": "stream",
     "text": [
      "2024-06-07 20:08:02.035376: I external/local_xla/xla/stream_executor/cuda/cuda_executor.cc:984] could not open file to read NUMA node: /sys/bus/pci/devices/0000:02:00.0/numa_node\n",
      "Your kernel may have been built without NUMA support.\n",
      "2024-06-07 20:08:02.035733: W tensorflow/core/common_runtime/gpu/gpu_device.cc:2251] Cannot dlopen some GPU libraries. Please make sure the missing libraries mentioned above are installed properly if you would like to use GPU. Follow the guide at https://www.tensorflow.org/install/gpu for how to download and setup the required libraries for your platform.\n",
      "Skipping registering GPU devices...\n"
     ]
    }
   ],
   "source": [
    "# TensorFlow setup for logistic regression\n",
    "def build_logistic_regression_model(input_dim):\n",
    "    model = tf.keras.Sequential([\n",
    "        tf.keras.layers.InputLayer(input_shape=(input_dim,)),\n",
    "        tf.keras.layers.Dense(1, activation='sigmoid')\n",
    "    ])\n",
    "    \n",
    "    model.compile(optimizer=tf.keras.optimizers.Adam(learning_rate=0.001),\n",
    "                  loss='binary_crossentropy',\n",
    "                  metrics=['accuracy'])\n",
    "    return model\n",
    "\n",
    "# Build the model\n",
    "model = build_logistic_regression_model(X_train_full.shape[1])"
   ]
  },
  {
   "cell_type": "code",
   "execution_count": 5,
   "metadata": {},
   "outputs": [
    {
     "name": "stdout",
     "output_type": "stream",
     "text": [
      "Epoch 1/100\n",
      "248/248 - 1s - 4ms/step - accuracy: 0.5158 - loss: 0.7079 - val_accuracy: 0.5474 - val_loss: 0.6993\n",
      "Epoch 2/100\n",
      "248/248 - 0s - 2ms/step - accuracy: 0.5544 - loss: 0.6926 - val_accuracy: 0.5636 - val_loss: 0.6856\n",
      "Epoch 3/100\n",
      "248/248 - 0s - 2ms/step - accuracy: 0.5592 - loss: 0.6794 - val_accuracy: 0.5636 - val_loss: 0.6728\n",
      "Epoch 4/100\n",
      "248/248 - 0s - 2ms/step - accuracy: 0.5635 - loss: 0.6669 - val_accuracy: 0.5575 - val_loss: 0.6609\n",
      "Epoch 5/100\n",
      "248/248 - 0s - 2ms/step - accuracy: 0.5632 - loss: 0.6553 - val_accuracy: 0.5762 - val_loss: 0.6490\n",
      "Epoch 6/100\n",
      "248/248 - 0s - 2ms/step - accuracy: 0.5681 - loss: 0.6446 - val_accuracy: 0.5782 - val_loss: 0.6384\n",
      "Epoch 7/100\n",
      "248/248 - 0s - 1ms/step - accuracy: 0.6427 - loss: 0.6346 - val_accuracy: 0.7180 - val_loss: 0.6282\n",
      "Epoch 8/100\n",
      "248/248 - 0s - 2ms/step - accuracy: 0.7175 - loss: 0.6252 - val_accuracy: 0.7089 - val_loss: 0.6194\n",
      "Epoch 9/100\n",
      "248/248 - 0s - 2ms/step - accuracy: 0.7184 - loss: 0.6165 - val_accuracy: 0.7134 - val_loss: 0.6106\n",
      "Epoch 10/100\n",
      "248/248 - 0s - 2ms/step - accuracy: 0.7224 - loss: 0.6084 - val_accuracy: 0.7447 - val_loss: 0.6015\n",
      "Epoch 11/100\n",
      "248/248 - 0s - 2ms/step - accuracy: 0.7327 - loss: 0.6006 - val_accuracy: 0.7503 - val_loss: 0.5936\n",
      "Epoch 12/100\n",
      "248/248 - 0s - 1ms/step - accuracy: 0.7421 - loss: 0.5934 - val_accuracy: 0.7528 - val_loss: 0.5861\n",
      "Epoch 13/100\n",
      "248/248 - 0s - 2ms/step - accuracy: 0.7493 - loss: 0.5864 - val_accuracy: 0.7538 - val_loss: 0.5791\n",
      "Epoch 14/100\n",
      "248/248 - 0s - 2ms/step - accuracy: 0.7569 - loss: 0.5798 - val_accuracy: 0.7664 - val_loss: 0.5721\n",
      "Epoch 15/100\n",
      "248/248 - 0s - 2ms/step - accuracy: 0.7627 - loss: 0.5735 - val_accuracy: 0.7704 - val_loss: 0.5654\n",
      "Epoch 16/100\n",
      "248/248 - 0s - 2ms/step - accuracy: 0.7641 - loss: 0.5674 - val_accuracy: 0.7820 - val_loss: 0.5587\n",
      "Epoch 17/100\n",
      "248/248 - 0s - 1ms/step - accuracy: 0.7782 - loss: 0.5616 - val_accuracy: 0.7830 - val_loss: 0.5529\n",
      "Epoch 18/100\n",
      "248/248 - 0s - 1ms/step - accuracy: 0.7787 - loss: 0.5561 - val_accuracy: 0.7866 - val_loss: 0.5471\n",
      "Epoch 19/100\n",
      "248/248 - 0s - 2ms/step - accuracy: 0.7820 - loss: 0.5508 - val_accuracy: 0.7846 - val_loss: 0.5418\n",
      "Epoch 20/100\n",
      "248/248 - 0s - 2ms/step - accuracy: 0.7856 - loss: 0.5456 - val_accuracy: 0.7982 - val_loss: 0.5355\n",
      "Epoch 21/100\n",
      "248/248 - 1s - 2ms/step - accuracy: 0.7885 - loss: 0.5408 - val_accuracy: 0.8002 - val_loss: 0.5302\n",
      "Epoch 22/100\n",
      "248/248 - 0s - 2ms/step - accuracy: 0.7930 - loss: 0.5360 - val_accuracy: 0.8012 - val_loss: 0.5254\n",
      "Epoch 23/100\n",
      "248/248 - 0s - 2ms/step - accuracy: 0.7946 - loss: 0.5314 - val_accuracy: 0.8174 - val_loss: 0.5201\n",
      "Epoch 24/100\n",
      "248/248 - 1s - 2ms/step - accuracy: 0.7980 - loss: 0.5273 - val_accuracy: 0.8174 - val_loss: 0.5155\n",
      "Epoch 25/100\n",
      "248/248 - 1s - 2ms/step - accuracy: 0.8008 - loss: 0.5231 - val_accuracy: 0.8204 - val_loss: 0.5109\n",
      "Epoch 26/100\n",
      "248/248 - 0s - 2ms/step - accuracy: 0.8018 - loss: 0.5191 - val_accuracy: 0.8199 - val_loss: 0.5068\n",
      "Epoch 27/100\n",
      "248/248 - 0s - 1ms/step - accuracy: 0.8028 - loss: 0.5152 - val_accuracy: 0.8249 - val_loss: 0.5025\n",
      "Epoch 28/100\n",
      "248/248 - 0s - 2ms/step - accuracy: 0.8060 - loss: 0.5116 - val_accuracy: 0.8153 - val_loss: 0.4993\n",
      "Epoch 29/100\n",
      "248/248 - 0s - 2ms/step - accuracy: 0.8053 - loss: 0.5081 - val_accuracy: 0.8244 - val_loss: 0.4950\n",
      "Epoch 30/100\n",
      "248/248 - 0s - 2ms/step - accuracy: 0.8071 - loss: 0.5047 - val_accuracy: 0.8274 - val_loss: 0.4911\n",
      "Epoch 31/100\n",
      "248/248 - 0s - 2ms/step - accuracy: 0.8084 - loss: 0.5014 - val_accuracy: 0.8285 - val_loss: 0.4876\n",
      "Epoch 32/100\n",
      "248/248 - 0s - 1ms/step - accuracy: 0.8082 - loss: 0.4984 - val_accuracy: 0.8295 - val_loss: 0.4842\n",
      "Epoch 33/100\n",
      "248/248 - 0s - 2ms/step - accuracy: 0.8096 - loss: 0.4952 - val_accuracy: 0.8305 - val_loss: 0.4808\n",
      "Epoch 34/100\n",
      "248/248 - 0s - 2ms/step - accuracy: 0.8089 - loss: 0.4925 - val_accuracy: 0.8345 - val_loss: 0.4774\n",
      "Epoch 35/100\n",
      "248/248 - 1s - 2ms/step - accuracy: 0.8082 - loss: 0.4894 - val_accuracy: 0.8375 - val_loss: 0.4743\n",
      "Epoch 36/100\n",
      "248/248 - 0s - 2ms/step - accuracy: 0.8121 - loss: 0.4871 - val_accuracy: 0.8350 - val_loss: 0.4715\n",
      "Epoch 37/100\n",
      "248/248 - 0s - 1ms/step - accuracy: 0.8086 - loss: 0.4843 - val_accuracy: 0.8340 - val_loss: 0.4688\n",
      "Epoch 38/100\n",
      "248/248 - 0s - 2ms/step - accuracy: 0.8104 - loss: 0.4818 - val_accuracy: 0.8355 - val_loss: 0.4658\n",
      "Epoch 39/100\n",
      "248/248 - 0s - 2ms/step - accuracy: 0.8120 - loss: 0.4795 - val_accuracy: 0.8391 - val_loss: 0.4630\n",
      "Epoch 40/100\n",
      "248/248 - 0s - 2ms/step - accuracy: 0.8118 - loss: 0.4771 - val_accuracy: 0.8391 - val_loss: 0.4604\n",
      "Epoch 41/100\n",
      "248/248 - 0s - 2ms/step - accuracy: 0.8126 - loss: 0.4748 - val_accuracy: 0.8365 - val_loss: 0.4580\n",
      "Epoch 42/100\n",
      "248/248 - 0s - 2ms/step - accuracy: 0.8125 - loss: 0.4727 - val_accuracy: 0.8375 - val_loss: 0.4555\n",
      "Epoch 43/100\n",
      "248/248 - 1s - 2ms/step - accuracy: 0.8137 - loss: 0.4704 - val_accuracy: 0.8401 - val_loss: 0.4530\n",
      "Epoch 44/100\n",
      "248/248 - 0s - 2ms/step - accuracy: 0.8131 - loss: 0.4685 - val_accuracy: 0.8370 - val_loss: 0.4511\n",
      "Epoch 45/100\n",
      "248/248 - 1s - 2ms/step - accuracy: 0.8140 - loss: 0.4664 - val_accuracy: 0.8365 - val_loss: 0.4488\n",
      "Epoch 46/100\n",
      "248/248 - 0s - 2ms/step - accuracy: 0.8138 - loss: 0.4645 - val_accuracy: 0.8385 - val_loss: 0.4464\n",
      "Epoch 47/100\n",
      "248/248 - 0s - 2ms/step - accuracy: 0.8154 - loss: 0.4630 - val_accuracy: 0.8385 - val_loss: 0.4444\n",
      "Epoch 48/100\n",
      "248/248 - 0s - 2ms/step - accuracy: 0.8150 - loss: 0.4609 - val_accuracy: 0.8406 - val_loss: 0.4423\n",
      "Epoch 49/100\n",
      "248/248 - 1s - 2ms/step - accuracy: 0.8149 - loss: 0.4592 - val_accuracy: 0.8391 - val_loss: 0.4403\n",
      "Epoch 50/100\n",
      "248/248 - 1s - 2ms/step - accuracy: 0.8139 - loss: 0.4577 - val_accuracy: 0.8375 - val_loss: 0.4388\n",
      "Epoch 51/100\n",
      "248/248 - 0s - 2ms/step - accuracy: 0.8149 - loss: 0.4560 - val_accuracy: 0.8396 - val_loss: 0.4368\n",
      "Epoch 52/100\n",
      "248/248 - 0s - 1ms/step - accuracy: 0.8138 - loss: 0.4543 - val_accuracy: 0.8375 - val_loss: 0.4354\n",
      "Epoch 53/100\n",
      "248/248 - 1s - 2ms/step - accuracy: 0.8152 - loss: 0.4530 - val_accuracy: 0.8380 - val_loss: 0.4338\n",
      "Epoch 54/100\n",
      "248/248 - 1s - 2ms/step - accuracy: 0.8144 - loss: 0.4514 - val_accuracy: 0.8360 - val_loss: 0.4325\n",
      "Epoch 55/100\n",
      "248/248 - 0s - 2ms/step - accuracy: 0.8159 - loss: 0.4502 - val_accuracy: 0.8385 - val_loss: 0.4301\n",
      "Epoch 56/100\n",
      "248/248 - 0s - 1ms/step - accuracy: 0.8148 - loss: 0.4486 - val_accuracy: 0.8391 - val_loss: 0.4289\n",
      "Epoch 57/100\n",
      "248/248 - 0s - 2ms/step - accuracy: 0.8167 - loss: 0.4478 - val_accuracy: 0.8396 - val_loss: 0.4269\n",
      "Epoch 58/100\n",
      "248/248 - 0s - 2ms/step - accuracy: 0.8154 - loss: 0.4462 - val_accuracy: 0.8406 - val_loss: 0.4254\n",
      "Epoch 59/100\n",
      "248/248 - 0s - 2ms/step - accuracy: 0.8163 - loss: 0.4449 - val_accuracy: 0.8401 - val_loss: 0.4245\n",
      "Epoch 60/100\n",
      "248/248 - 0s - 2ms/step - accuracy: 0.8177 - loss: 0.4435 - val_accuracy: 0.8431 - val_loss: 0.4225\n",
      "Epoch 61/100\n",
      "248/248 - 0s - 2ms/step - accuracy: 0.8157 - loss: 0.4424 - val_accuracy: 0.8401 - val_loss: 0.4218\n",
      "Epoch 62/100\n",
      "248/248 - 0s - 1ms/step - accuracy: 0.8155 - loss: 0.4415 - val_accuracy: 0.8391 - val_loss: 0.4200\n",
      "Epoch 63/100\n",
      "248/248 - 0s - 2ms/step - accuracy: 0.8181 - loss: 0.4403 - val_accuracy: 0.8426 - val_loss: 0.4185\n",
      "Epoch 64/100\n",
      "248/248 - 0s - 2ms/step - accuracy: 0.8174 - loss: 0.4395 - val_accuracy: 0.8396 - val_loss: 0.4175\n",
      "Epoch 65/100\n",
      "248/248 - 0s - 2ms/step - accuracy: 0.8160 - loss: 0.4381 - val_accuracy: 0.8391 - val_loss: 0.4163\n",
      "Epoch 66/100\n",
      "248/248 - 0s - 1ms/step - accuracy: 0.8159 - loss: 0.4372 - val_accuracy: 0.8416 - val_loss: 0.4149\n",
      "Epoch 67/100\n",
      "248/248 - 0s - 2ms/step - accuracy: 0.8177 - loss: 0.4363 - val_accuracy: 0.8416 - val_loss: 0.4138\n",
      "Epoch 68/100\n",
      "248/248 - 1s - 2ms/step - accuracy: 0.8177 - loss: 0.4351 - val_accuracy: 0.8416 - val_loss: 0.4132\n",
      "Epoch 69/100\n",
      "248/248 - 0s - 2ms/step - accuracy: 0.8164 - loss: 0.4343 - val_accuracy: 0.8396 - val_loss: 0.4119\n",
      "Epoch 70/100\n",
      "248/248 - 1s - 2ms/step - accuracy: 0.8172 - loss: 0.4333 - val_accuracy: 0.8411 - val_loss: 0.4106\n",
      "Epoch 71/100\n",
      "248/248 - 0s - 2ms/step - accuracy: 0.8179 - loss: 0.4325 - val_accuracy: 0.8406 - val_loss: 0.4099\n",
      "Epoch 72/100\n",
      "248/248 - 1s - 2ms/step - accuracy: 0.8172 - loss: 0.4319 - val_accuracy: 0.8431 - val_loss: 0.4085\n",
      "Epoch 73/100\n",
      "248/248 - 0s - 2ms/step - accuracy: 0.8179 - loss: 0.4309 - val_accuracy: 0.8431 - val_loss: 0.4076\n",
      "Epoch 74/100\n",
      "248/248 - 0s - 2ms/step - accuracy: 0.8174 - loss: 0.4299 - val_accuracy: 0.8406 - val_loss: 0.4068\n",
      "Epoch 75/100\n",
      "248/248 - 0s - 2ms/step - accuracy: 0.8191 - loss: 0.4294 - val_accuracy: 0.8431 - val_loss: 0.4056\n",
      "Epoch 76/100\n",
      "248/248 - 0s - 2ms/step - accuracy: 0.8174 - loss: 0.4286 - val_accuracy: 0.8421 - val_loss: 0.4048\n",
      "Epoch 77/100\n",
      "248/248 - 0s - 2ms/step - accuracy: 0.8166 - loss: 0.4277 - val_accuracy: 0.8411 - val_loss: 0.4040\n",
      "Epoch 78/100\n",
      "248/248 - 0s - 2ms/step - accuracy: 0.8179 - loss: 0.4272 - val_accuracy: 0.8426 - val_loss: 0.4030\n",
      "Epoch 79/100\n",
      "248/248 - 0s - 2ms/step - accuracy: 0.8190 - loss: 0.4264 - val_accuracy: 0.8436 - val_loss: 0.4021\n",
      "Epoch 80/100\n",
      "248/248 - 0s - 2ms/step - accuracy: 0.8179 - loss: 0.4255 - val_accuracy: 0.8421 - val_loss: 0.4013\n",
      "Epoch 81/100\n",
      "248/248 - 0s - 2ms/step - accuracy: 0.8178 - loss: 0.4250 - val_accuracy: 0.8401 - val_loss: 0.4004\n",
      "Epoch 82/100\n",
      "248/248 - 0s - 2ms/step - accuracy: 0.8176 - loss: 0.4244 - val_accuracy: 0.8446 - val_loss: 0.3997\n",
      "Epoch 83/100\n",
      "248/248 - 0s - 2ms/step - accuracy: 0.8187 - loss: 0.4238 - val_accuracy: 0.8411 - val_loss: 0.3991\n",
      "Epoch 84/100\n",
      "248/248 - 0s - 2ms/step - accuracy: 0.8198 - loss: 0.4231 - val_accuracy: 0.8436 - val_loss: 0.3981\n",
      "Epoch 85/100\n",
      "248/248 - 0s - 2ms/step - accuracy: 0.8190 - loss: 0.4226 - val_accuracy: 0.8421 - val_loss: 0.3975\n",
      "Epoch 86/100\n",
      "248/248 - 0s - 2ms/step - accuracy: 0.8196 - loss: 0.4219 - val_accuracy: 0.8431 - val_loss: 0.3967\n",
      "Epoch 87/100\n",
      "248/248 - 0s - 1ms/step - accuracy: 0.8192 - loss: 0.4214 - val_accuracy: 0.8416 - val_loss: 0.3959\n",
      "Epoch 88/100\n",
      "248/248 - 0s - 2ms/step - accuracy: 0.8211 - loss: 0.4208 - val_accuracy: 0.8421 - val_loss: 0.3956\n",
      "Epoch 89/100\n",
      "248/248 - 0s - 2ms/step - accuracy: 0.8197 - loss: 0.4203 - val_accuracy: 0.8436 - val_loss: 0.3946\n",
      "Epoch 90/100\n",
      "248/248 - 0s - 1ms/step - accuracy: 0.8200 - loss: 0.4194 - val_accuracy: 0.8416 - val_loss: 0.3939\n",
      "Epoch 91/100\n",
      "248/248 - 0s - 2ms/step - accuracy: 0.8190 - loss: 0.4192 - val_accuracy: 0.8436 - val_loss: 0.3934\n",
      "Epoch 92/100\n",
      "248/248 - 0s - 2ms/step - accuracy: 0.8191 - loss: 0.4187 - val_accuracy: 0.8426 - val_loss: 0.3930\n",
      "Epoch 93/100\n",
      "248/248 - 0s - 2ms/step - accuracy: 0.8208 - loss: 0.4181 - val_accuracy: 0.8431 - val_loss: 0.3922\n",
      "Epoch 94/100\n",
      "248/248 - 0s - 2ms/step - accuracy: 0.8197 - loss: 0.4176 - val_accuracy: 0.8446 - val_loss: 0.3916\n",
      "Epoch 95/100\n",
      "248/248 - 0s - 2ms/step - accuracy: 0.8188 - loss: 0.4172 - val_accuracy: 0.8436 - val_loss: 0.3911\n",
      "Epoch 96/100\n",
      "248/248 - 0s - 2ms/step - accuracy: 0.8210 - loss: 0.4166 - val_accuracy: 0.8441 - val_loss: 0.3902\n",
      "Epoch 97/100\n",
      "248/248 - 0s - 2ms/step - accuracy: 0.8192 - loss: 0.4161 - val_accuracy: 0.8436 - val_loss: 0.3896\n",
      "Epoch 98/100\n",
      "248/248 - 0s - 1ms/step - accuracy: 0.8203 - loss: 0.4159 - val_accuracy: 0.8436 - val_loss: 0.3892\n",
      "Epoch 99/100\n",
      "248/248 - 0s - 2ms/step - accuracy: 0.8217 - loss: 0.4153 - val_accuracy: 0.8446 - val_loss: 0.3886\n",
      "Epoch 100/100\n",
      "248/248 - 0s - 2ms/step - accuracy: 0.8205 - loss: 0.4148 - val_accuracy: 0.8441 - val_loss: 0.3880\n"
     ]
    }
   ],
   "source": [
    "# Train the model\n",
    "history = model.fit(X_train_full, y_train_full, validation_split=0.2, epochs=100, batch_size=32, verbose=2)"
   ]
  },
  {
   "cell_type": "code",
   "execution_count": 6,
   "metadata": {},
   "outputs": [
    {
     "name": "stdout",
     "output_type": "stream",
     "text": [
      "\u001b[1m133/133\u001b[0m \u001b[32m━━━━━━━━━━━━━━━━━━━━\u001b[0m\u001b[37m\u001b[0m \u001b[1m0s\u001b[0m 1ms/step - accuracy: 0.8266 - loss: 0.4222\n",
      "Test Loss: 0.41297799348831177, Test Accuracy: 0.8292912840843201\n",
      "\u001b[1m133/133\u001b[0m \u001b[32m━━━━━━━━━━━━━━━━━━━━\u001b[0m\u001b[37m\u001b[0m \u001b[1m0s\u001b[0m 1ms/step\n"
     ]
    }
   ],
   "source": [
    "# Evaluate the model\n",
    "loss, accuracy = model.evaluate(X_test, y_test)\n",
    "print(f\"Test Loss: {loss}, Test Accuracy: {accuracy}\")\n",
    "\n",
    "# Predictions\n",
    "y_pred_prob = model.predict(X_test).flatten()\n",
    "y_pred = (y_pred_prob > 0.5).astype(int)\n",
    "\n",
    "# Calculate additional metrics\n",
    "f1 = f1_score(y_test, y_pred)\n",
    "roc_auc = roc_auc_score(y_test, y_pred_prob)\n",
    "recall = recall_score(y_test, y_pred)\n",
    "precision = precision_score(y_test, y_pred)\n",
    "accuracy = accuracy_score(y_test, y_pred)"
   ]
  },
  {
   "cell_type": "code",
   "execution_count": 7,
   "metadata": {},
   "outputs": [
    {
     "name": "stderr",
     "output_type": "stream",
     "text": [
      "WARNING:absl:You are saving your model as an HDF5 file via `model.save()` or `keras.saving.save_model(model)`. This file format is considered legacy. We recommend using instead the native Keras format, e.g. `model.save('my_model.keras')` or `keras.saving.save_model(model, 'my_model.keras')`. \n",
      "WARNING:absl:Compiled the loaded model, but the compiled metrics have yet to be built. `model.compile_metrics` will be empty until you train or evaluate the model.\n"
     ]
    },
    {
     "name": "stdout",
     "output_type": "stream",
     "text": [
      "F1 Score: 0.8104575163398693\n",
      "ROC AUC Score: 0.9052651345756803\n",
      "Recall: 0.7924335378323109\n",
      "Precision: 0.8293204922418406\n",
      "Accuracy: 0.8292912644219449\n"
     ]
    }
   ],
   "source": [
    "print(f\"F1 Score: {f1}\")\n",
    "print(f\"ROC AUC Score: {roc_auc}\")\n",
    "print(f\"Recall: {recall}\")\n",
    "print(f\"Precision: {precision}\")\n",
    "print(f\"Accuracy: {accuracy}\")\n",
    "\n",
    "# Save the model\n",
    "model.save('logistic_regression_tf.h5')\n",
    "\n",
    "# Load the model if needed\n",
    "loaded_model = tf.keras.models.load_model('logistic_regression_tf.h5')"
   ]
  },
  {
   "cell_type": "code",
   "execution_count": 12,
   "metadata": {},
   "outputs": [],
   "source": [
    "import pandas as pd\n",
    "\n",
    "# Load transactions from a CSV file\n",
    "transactions_df = pd.read_csv('./transactions.csv')\n",
    "\n",
    "# Convert the 'value' column to integers for calculation purposes\n",
    "# This assumes all values in the 'value' column are numeric and can be converted to integers\n",
    "transactions_df['value'] = transactions_df['value'].astype(int)\n",
    "\n",
    "# Convert timestamps from string to datetime\n",
    "transactions_df['timeStamp'] = pd.to_datetime(transactions_df['timeStamp'], unit='s')\n",
    "\n",
    "# Calculate time differences in minutes for subsequent transactions\n",
    "transactions_df.sort_values('timeStamp', inplace=True)\n",
    "transactions_df['time_diff'] = transactions_df['timeStamp'].diff().dt.total_seconds() / 60\n",
    "\n",
    "# Filter out sent and received transactions\n",
    "sent_transactions = transactions_df[transactions_df['from'].str.lower() == '0x9A23A93905a0CEf884ACB6F6488BC5D7b964EF73'.lower()]\n",
    "received_transactions = transactions_df[transactions_df['to'].str.lower() == '0x9A23A93905a0CEf884ACB6F6488BC5D7b964EF73'.lower()]\n",
    "\n",
    "# Calculate various metrics with conversions from Wei to Ether\n",
    "metrics = {\n",
    "    'Avg min between sent tnx': sent_transactions['time_diff'].mean(),\n",
    "    'Avg min between received tnx': received_transactions['time_diff'].mean(),\n",
    "    'Time Diff between first and last (Mins)': (transactions_df['timeStamp'].iloc[-1] - transactions_df['timeStamp'].iloc[0]).total_seconds() / 60,\n",
    "    'Unique Received From Addresses': received_transactions['from'].nunique(),\n",
    "    'min value received': received_transactions['value'].min() / 1e18,\n",
    "    'max value received ': received_transactions['value'].max() / 1e18,\n",
    "    'avg val received': received_transactions['value'].mean() / 1e18,\n",
    "    'min val sent': sent_transactions['value'].min() / 1e18,\n",
    "    'avg val sent': sent_transactions['value'].mean() / 1e18,\n",
    "    'total transactions (including tnx to create contract': transactions_df.shape[0],\n",
    "    'total ether received': received_transactions['value'].sum() / 1e18,\n",
    "    'total ether balance': transactions_df['value'].sum() / 1e18  # Simplistic balance calculation\n",
    "}"
   ]
  },
  {
   "cell_type": "code",
   "execution_count": 13,
   "metadata": {},
   "outputs": [],
   "source": [
    "metrics_df = pd.DataFrame([metrics])"
   ]
  },
  {
   "cell_type": "code",
   "execution_count": 14,
   "metadata": {},
   "outputs": [],
   "source": [
    "for c in metrics_df.columns:\n",
    "    if metrics_df[c].iloc[0] > 0:\n",
    "        metrics_df[c] = np.log(metrics_df[c] + 1)"
   ]
  },
  {
   "cell_type": "code",
   "execution_count": 15,
   "metadata": {},
   "outputs": [],
   "source": [
    "metrics_scaled = scaler.transform(metrics_df)"
   ]
  },
  {
   "cell_type": "code",
   "execution_count": 16,
   "metadata": {},
   "outputs": [
    {
     "name": "stdout",
     "output_type": "stream",
     "text": [
      "\u001b[1m1/1\u001b[0m \u001b[32m━━━━━━━━━━━━━━━━━━━━\u001b[0m\u001b[37m\u001b[0m \u001b[1m0s\u001b[0m 19ms/step\n",
      "Prediction: 0.1811235100030899\n"
     ]
    }
   ],
   "source": [
    "# Make predictions\n",
    "prediction = model.predict(metrics_scaled)\n",
    "\n",
    "# Output the prediction\n",
    "print(f\"Prediction: {prediction[0][0]}\")"
   ]
  }
 ],
 "metadata": {
  "kernelspec": {
   "display_name": "Python 3",
   "language": "python",
   "name": "python3"
  },
  "language_info": {
   "codemirror_mode": {
    "name": "ipython",
    "version": 3
   },
   "file_extension": ".py",
   "mimetype": "text/x-python",
   "name": "python",
   "nbconvert_exporter": "python",
   "pygments_lexer": "ipython3",
   "version": "3.11.5"
  }
 },
 "nbformat": 4,
 "nbformat_minor": 2
}
