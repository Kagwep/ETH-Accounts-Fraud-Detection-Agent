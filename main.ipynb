{
 "cells": [
  {
   "cell_type": "code",
   "execution_count": 1,
   "metadata": {},
   "outputs": [
    {
     "name": "stderr",
     "output_type": "stream",
     "text": [
      "2024-06-09 15:06:45.675485: I tensorflow/core/platform/cpu_feature_guard.cc:210] This TensorFlow binary is optimized to use available CPU instructions in performance-critical operations.\n",
      "To enable the following instructions: AVX2 AVX512F FMA, in other operations, rebuild TensorFlow with the appropriate compiler flags.\n",
      "2024-06-09 15:06:50.534057: W tensorflow/compiler/tf2tensorrt/utils/py_utils.cc:38] TF-TRT Warning: Could not find TensorRT\n"
     ]
    }
   ],
   "source": [
    "import numpy as np\n",
    "import pandas as pd\n",
    "import tensorflow as tf\n",
    "from sklearn.model_selection import train_test_split\n",
    "from sklearn.preprocessing import MinMaxScaler\n",
    "from sklearn.metrics import f1_score, roc_auc_score, recall_score, accuracy_score, precision_score\n",
    "import matplotlib\n",
    "import matplotlib.pyplot as plt\n",
    "import seaborn as sns\n",
    "matplotlib.rcParams['figure.figsize'] = (11.0, 8.0)\n",
    "from joblib import dump, load\n",
    "import warnings\n",
    "warnings.filterwarnings('ignore')\n"
   ]
  },
  {
   "cell_type": "code",
   "execution_count": 2,
   "metadata": {},
   "outputs": [],
   "source": [
    "# Importing Data\n",
    "df = pd.read_csv('./data/address_data_combined.csv')\n",
    "X = df.drop(columns=['Address', 'FLAG'])\n",
    "y = df['FLAG']\n",
    "X_train_full, X_test, y_train_full, y_test = train_test_split(X, y, test_size=0.25, random_state=42, stratify=y)\n",
    "\n",
    "# Feature Engineering\n",
    "columns = ['Avg min between sent tnx', 'Avg min between received tnx',\n",
    "           'Time Diff between first and last (Mins)',\n",
    "           'Unique Received From Addresses', 'min value received',\n",
    "           'max value received ', 'avg val received', 'min val sent',\n",
    "           'avg val sent', 'total transactions (including tnx to create contract',\n",
    "           'total ether received', 'total ether balance']\n",
    "\n",
    "scaler = MinMaxScaler()"
   ]
  },
  {
   "cell_type": "code",
   "execution_count": 3,
   "metadata": {},
   "outputs": [
    {
     "name": "stderr",
     "output_type": "stream",
     "text": [
      "2024-06-09 15:07:10.257152: I external/local_xla/xla/stream_executor/cuda/cuda_executor.cc:984] could not open file to read NUMA node: /sys/bus/pci/devices/0000:02:00.0/numa_node\n",
      "Your kernel may have been built without NUMA support.\n",
      "2024-06-09 15:07:10.257744: W tensorflow/core/common_runtime/gpu/gpu_device.cc:2251] Cannot dlopen some GPU libraries. Please make sure the missing libraries mentioned above are installed properly if you would like to use GPU. Follow the guide at https://www.tensorflow.org/install/gpu for how to download and setup the required libraries for your platform.\n",
      "Skipping registering GPU devices...\n"
     ]
    }
   ],
   "source": [
    "# Log Transformation for Skewed Data\n",
    "for c in columns:\n",
    "    X_train_full[c] = X_train_full[c].apply(lambda x: np.log(x) if x > 0 else 0)\n",
    "    X_test[c] = X_test[c].apply(lambda x: np.log(x) if x > 0 else 0)\n",
    "\n",
    "# Scaling\n",
    "X_train_full = scaler.fit_transform(X_train_full)\n",
    "X_test = scaler.transform(X_test)\n",
    "\n",
    "dump(scaler, 'scaler.joblib')\n",
    "\n",
    "model = tf.keras.Sequential([\n",
    "    # Reduce the number of neurons in the first layer\n",
    "    tf.keras.layers.Dense(32, activation='relu', input_shape=(X_train_full.shape[1],)),\n",
    "    # Include a dropout layer to prevent overfitting\n",
    "    tf.keras.layers.Dropout(0.1),\n",
    "    # Reduce to one hidden layer before the output\n",
    "    tf.keras.layers.Dense(16, activation='relu'),\n",
    "    # Output layer for binary classification with sigmoid activation\n",
    "    tf.keras.layers.Dense(1, activation='sigmoid')\n",
    "])\n",
    "\n",
    "# Compile the model\n",
    "model.compile(optimizer=tf.keras.optimizers.Adam(learning_rate=0.001),\n",
    "              loss='binary_crossentropy',\n",
    "              metrics=['accuracy'])\n",
    "\n",
    "# Implement Early Stopping\n",
    "early_stopping = tf.keras.callbacks.EarlyStopping(\n",
    "    monitor='val_loss',\n",
    "    patience=10,\n",
    "    restore_best_weights=True\n",
    ")\n"
   ]
  },
  {
   "cell_type": "code",
   "execution_count": 38,
   "metadata": {},
   "outputs": [],
   "source": [
    "# model = tf.keras.models.Sequential([\n",
    "#     tf.keras.layers.Dense(128, activation='relu', input_dim=X_train_full.shape[1]),\n",
    "#     tf.keras.layers.Dense(64, activation='relu'),\n",
    "#     tf.keras.layers.Dense(32, activation='relu'),\n",
    "#     tf.keras.layers.Dense(16, activation='relu'),\n",
    "#     tf.keras.layers.Dense(8, activation='relu'),\n",
    "#     tf.keras.layers.Dense(1, activation='sigmoid')\n",
    "# ])\n",
    "\n",
    "# model.compile(optimizer=tf.keras.optimizers.Adam(learning_rate=0.001),\n",
    "#               loss='binary_crossentropy',\n",
    "#               metrics=['accuracy'])\n"
   ]
  },
  {
   "cell_type": "code",
   "execution_count": 4,
   "metadata": {},
   "outputs": [
    {
     "name": "stdout",
     "output_type": "stream",
     "text": [
      "Epoch 1/100\n",
      "266/266 - 2s - 9ms/step - accuracy: 0.6518 - loss: 0.6230 - val_accuracy: 0.7750 - val_loss: 0.5078\n",
      "Epoch 2/100\n",
      "266/266 - 1s - 2ms/step - accuracy: 0.7988 - loss: 0.4479 - val_accuracy: 0.8244 - val_loss: 0.3827\n",
      "Epoch 3/100\n",
      "266/266 - 1s - 2ms/step - accuracy: 0.8282 - loss: 0.3825 - val_accuracy: 0.8376 - val_loss: 0.3697\n",
      "Epoch 4/100\n",
      "266/266 - 0s - 2ms/step - accuracy: 0.8448 - loss: 0.3606 - val_accuracy: 0.8540 - val_loss: 0.3343\n",
      "Epoch 5/100\n",
      "266/266 - 1s - 2ms/step - accuracy: 0.8539 - loss: 0.3417 - val_accuracy: 0.8630 - val_loss: 0.3211\n",
      "Epoch 6/100\n",
      "266/266 - 1s - 2ms/step - accuracy: 0.8626 - loss: 0.3307 - val_accuracy: 0.8663 - val_loss: 0.3138\n",
      "Epoch 7/100\n",
      "266/266 - 1s - 2ms/step - accuracy: 0.8647 - loss: 0.3192 - val_accuracy: 0.8668 - val_loss: 0.3029\n",
      "Epoch 8/100\n",
      "266/266 - 0s - 2ms/step - accuracy: 0.8683 - loss: 0.3126 - val_accuracy: 0.8691 - val_loss: 0.2996\n",
      "Epoch 9/100\n",
      "266/266 - 1s - 2ms/step - accuracy: 0.8701 - loss: 0.3087 - val_accuracy: 0.8748 - val_loss: 0.2939\n",
      "Epoch 10/100\n",
      "266/266 - 1s - 2ms/step - accuracy: 0.8744 - loss: 0.3037 - val_accuracy: 0.8785 - val_loss: 0.2892\n",
      "Epoch 11/100\n",
      "266/266 - 1s - 2ms/step - accuracy: 0.8768 - loss: 0.2990 - val_accuracy: 0.8790 - val_loss: 0.2840\n",
      "Epoch 12/100\n",
      "266/266 - 1s - 2ms/step - accuracy: 0.8776 - loss: 0.2928 - val_accuracy: 0.8795 - val_loss: 0.2881\n",
      "Epoch 13/100\n",
      "266/266 - 1s - 2ms/step - accuracy: 0.8819 - loss: 0.2920 - val_accuracy: 0.8851 - val_loss: 0.2778\n",
      "Epoch 14/100\n",
      "266/266 - 1s - 2ms/step - accuracy: 0.8806 - loss: 0.2912 - val_accuracy: 0.8804 - val_loss: 0.2820\n",
      "Epoch 15/100\n",
      "266/266 - 1s - 2ms/step - accuracy: 0.8845 - loss: 0.2849 - val_accuracy: 0.8832 - val_loss: 0.2733\n",
      "Epoch 16/100\n",
      "266/266 - 1s - 2ms/step - accuracy: 0.8806 - loss: 0.2855 - val_accuracy: 0.8875 - val_loss: 0.2701\n",
      "Epoch 17/100\n",
      "266/266 - 1s - 2ms/step - accuracy: 0.8821 - loss: 0.2830 - val_accuracy: 0.8927 - val_loss: 0.2677\n",
      "Epoch 18/100\n",
      "266/266 - 1s - 2ms/step - accuracy: 0.8892 - loss: 0.2768 - val_accuracy: 0.8879 - val_loss: 0.2669\n",
      "Epoch 19/100\n",
      "266/266 - 1s - 2ms/step - accuracy: 0.8873 - loss: 0.2776 - val_accuracy: 0.8875 - val_loss: 0.2698\n",
      "Epoch 20/100\n",
      "266/266 - 0s - 2ms/step - accuracy: 0.8878 - loss: 0.2779 - val_accuracy: 0.8927 - val_loss: 0.2624\n",
      "Epoch 21/100\n",
      "266/266 - 1s - 2ms/step - accuracy: 0.8895 - loss: 0.2718 - val_accuracy: 0.8941 - val_loss: 0.2587\n",
      "Epoch 22/100\n",
      "266/266 - 1s - 2ms/step - accuracy: 0.8887 - loss: 0.2751 - val_accuracy: 0.8945 - val_loss: 0.2590\n",
      "Epoch 23/100\n",
      "266/266 - 1s - 2ms/step - accuracy: 0.8906 - loss: 0.2704 - val_accuracy: 0.8945 - val_loss: 0.2545\n",
      "Epoch 24/100\n",
      "266/266 - 1s - 2ms/step - accuracy: 0.8895 - loss: 0.2708 - val_accuracy: 0.8894 - val_loss: 0.2566\n",
      "Epoch 25/100\n",
      "266/266 - 1s - 2ms/step - accuracy: 0.8934 - loss: 0.2667 - val_accuracy: 0.8969 - val_loss: 0.2528\n",
      "Epoch 26/100\n",
      "266/266 - 1s - 2ms/step - accuracy: 0.8944 - loss: 0.2622 - val_accuracy: 0.8927 - val_loss: 0.2510\n",
      "Epoch 27/100\n",
      "266/266 - 1s - 2ms/step - accuracy: 0.8912 - loss: 0.2628 - val_accuracy: 0.9002 - val_loss: 0.2458\n",
      "Epoch 28/100\n",
      "266/266 - 0s - 2ms/step - accuracy: 0.8893 - loss: 0.2624 - val_accuracy: 0.8969 - val_loss: 0.2481\n",
      "Epoch 29/100\n",
      "266/266 - 1s - 2ms/step - accuracy: 0.8964 - loss: 0.2553 - val_accuracy: 0.8903 - val_loss: 0.2520\n",
      "Epoch 30/100\n",
      "266/266 - 1s - 2ms/step - accuracy: 0.8925 - loss: 0.2600 - val_accuracy: 0.8861 - val_loss: 0.2582\n",
      "Epoch 31/100\n",
      "266/266 - 1s - 2ms/step - accuracy: 0.8951 - loss: 0.2559 - val_accuracy: 0.8950 - val_loss: 0.2444\n",
      "Epoch 32/100\n",
      "266/266 - 1s - 2ms/step - accuracy: 0.8925 - loss: 0.2577 - val_accuracy: 0.8960 - val_loss: 0.2439\n",
      "Epoch 33/100\n",
      "266/266 - 0s - 2ms/step - accuracy: 0.8948 - loss: 0.2531 - val_accuracy: 0.8917 - val_loss: 0.2477\n",
      "Epoch 34/100\n",
      "266/266 - 1s - 3ms/step - accuracy: 0.8952 - loss: 0.2531 - val_accuracy: 0.8941 - val_loss: 0.2458\n",
      "Epoch 35/100\n",
      "266/266 - 1s - 2ms/step - accuracy: 0.8963 - loss: 0.2525 - val_accuracy: 0.8898 - val_loss: 0.2413\n",
      "Epoch 36/100\n",
      "266/266 - 1s - 2ms/step - accuracy: 0.8938 - loss: 0.2529 - val_accuracy: 0.8974 - val_loss: 0.2360\n",
      "Epoch 37/100\n",
      "266/266 - 0s - 2ms/step - accuracy: 0.8977 - loss: 0.2489 - val_accuracy: 0.9030 - val_loss: 0.2359\n",
      "Epoch 38/100\n",
      "266/266 - 1s - 2ms/step - accuracy: 0.8983 - loss: 0.2484 - val_accuracy: 0.8898 - val_loss: 0.2496\n",
      "Epoch 39/100\n",
      "266/266 - 1s - 2ms/step - accuracy: 0.8976 - loss: 0.2492 - val_accuracy: 0.8931 - val_loss: 0.2376\n",
      "Epoch 40/100\n",
      "266/266 - 1s - 2ms/step - accuracy: 0.8970 - loss: 0.2477 - val_accuracy: 0.9007 - val_loss: 0.2343\n",
      "Epoch 41/100\n",
      "266/266 - 1s - 2ms/step - accuracy: 0.9000 - loss: 0.2461 - val_accuracy: 0.8908 - val_loss: 0.2427\n",
      "Epoch 42/100\n",
      "266/266 - 1s - 3ms/step - accuracy: 0.8996 - loss: 0.2444 - val_accuracy: 0.8983 - val_loss: 0.2288\n",
      "Epoch 43/100\n",
      "266/266 - 1s - 2ms/step - accuracy: 0.8999 - loss: 0.2441 - val_accuracy: 0.9011 - val_loss: 0.2469\n",
      "Epoch 44/100\n",
      "266/266 - 1s - 2ms/step - accuracy: 0.8996 - loss: 0.2472 - val_accuracy: 0.8983 - val_loss: 0.2305\n",
      "Epoch 45/100\n",
      "266/266 - 1s - 2ms/step - accuracy: 0.8990 - loss: 0.2466 - val_accuracy: 0.9021 - val_loss: 0.2267\n",
      "Epoch 46/100\n",
      "266/266 - 1s - 2ms/step - accuracy: 0.8998 - loss: 0.2437 - val_accuracy: 0.9021 - val_loss: 0.2277\n",
      "Epoch 47/100\n",
      "266/266 - 1s - 2ms/step - accuracy: 0.8990 - loss: 0.2441 - val_accuracy: 0.8992 - val_loss: 0.2247\n",
      "Epoch 48/100\n",
      "266/266 - 1s - 2ms/step - accuracy: 0.8986 - loss: 0.2400 - val_accuracy: 0.9016 - val_loss: 0.2259\n",
      "Epoch 49/100\n",
      "266/266 - 1s - 2ms/step - accuracy: 0.9021 - loss: 0.2428 - val_accuracy: 0.9025 - val_loss: 0.2294\n",
      "Epoch 50/100\n",
      "266/266 - 1s - 2ms/step - accuracy: 0.8992 - loss: 0.2406 - val_accuracy: 0.8974 - val_loss: 0.2420\n",
      "Epoch 51/100\n",
      "266/266 - 1s - 2ms/step - accuracy: 0.9037 - loss: 0.2378 - val_accuracy: 0.8988 - val_loss: 0.2341\n",
      "Epoch 52/100\n",
      "266/266 - 1s - 2ms/step - accuracy: 0.9025 - loss: 0.2333 - val_accuracy: 0.8992 - val_loss: 0.2221\n",
      "Epoch 53/100\n",
      "266/266 - 1s - 2ms/step - accuracy: 0.9026 - loss: 0.2345 - val_accuracy: 0.8997 - val_loss: 0.2384\n",
      "Epoch 54/100\n",
      "266/266 - 1s - 2ms/step - accuracy: 0.9016 - loss: 0.2355 - val_accuracy: 0.9016 - val_loss: 0.2217\n",
      "Epoch 55/100\n",
      "266/266 - 0s - 2ms/step - accuracy: 0.8994 - loss: 0.2391 - val_accuracy: 0.8992 - val_loss: 0.2248\n",
      "Epoch 56/100\n",
      "266/266 - 1s - 2ms/step - accuracy: 0.9023 - loss: 0.2364 - val_accuracy: 0.9035 - val_loss: 0.2193\n",
      "Epoch 57/100\n",
      "266/266 - 1s - 2ms/step - accuracy: 0.9046 - loss: 0.2319 - val_accuracy: 0.9021 - val_loss: 0.2181\n",
      "Epoch 58/100\n",
      "266/266 - 1s - 2ms/step - accuracy: 0.9052 - loss: 0.2343 - val_accuracy: 0.9021 - val_loss: 0.2176\n",
      "Epoch 59/100\n",
      "266/266 - 1s - 2ms/step - accuracy: 0.9037 - loss: 0.2336 - val_accuracy: 0.9044 - val_loss: 0.2193\n",
      "Epoch 60/100\n",
      "266/266 - 1s - 2ms/step - accuracy: 0.9051 - loss: 0.2314 - val_accuracy: 0.9054 - val_loss: 0.2186\n",
      "Epoch 61/100\n",
      "266/266 - 1s - 2ms/step - accuracy: 0.9036 - loss: 0.2311 - val_accuracy: 0.9035 - val_loss: 0.2205\n",
      "Epoch 62/100\n",
      "266/266 - 1s - 2ms/step - accuracy: 0.9040 - loss: 0.2284 - val_accuracy: 0.8997 - val_loss: 0.2205\n",
      "Epoch 63/100\n",
      "266/266 - 0s - 2ms/step - accuracy: 0.9054 - loss: 0.2290 - val_accuracy: 0.9096 - val_loss: 0.2178\n",
      "Epoch 64/100\n",
      "266/266 - 1s - 2ms/step - accuracy: 0.9033 - loss: 0.2280 - val_accuracy: 0.9021 - val_loss: 0.2169\n",
      "Epoch 65/100\n",
      "266/266 - 1s - 2ms/step - accuracy: 0.9032 - loss: 0.2301 - val_accuracy: 0.9011 - val_loss: 0.2136\n",
      "Epoch 66/100\n",
      "266/266 - 1s - 2ms/step - accuracy: 0.9033 - loss: 0.2259 - val_accuracy: 0.9025 - val_loss: 0.2194\n",
      "Epoch 67/100\n",
      "266/266 - 1s - 2ms/step - accuracy: 0.9066 - loss: 0.2234 - val_accuracy: 0.9044 - val_loss: 0.2150\n",
      "Epoch 68/100\n",
      "266/266 - 1s - 2ms/step - accuracy: 0.9066 - loss: 0.2298 - val_accuracy: 0.9030 - val_loss: 0.2144\n",
      "Epoch 69/100\n",
      "266/266 - 1s - 2ms/step - accuracy: 0.9070 - loss: 0.2239 - val_accuracy: 0.9016 - val_loss: 0.2112\n",
      "Epoch 70/100\n",
      "266/266 - 1s - 2ms/step - accuracy: 0.9069 - loss: 0.2256 - val_accuracy: 0.9101 - val_loss: 0.2103\n",
      "Epoch 71/100\n",
      "266/266 - 1s - 2ms/step - accuracy: 0.9052 - loss: 0.2244 - val_accuracy: 0.9040 - val_loss: 0.2129\n",
      "Epoch 72/100\n",
      "266/266 - 1s - 2ms/step - accuracy: 0.9072 - loss: 0.2251 - val_accuracy: 0.9101 - val_loss: 0.2116\n",
      "Epoch 73/100\n",
      "266/266 - 1s - 2ms/step - accuracy: 0.9045 - loss: 0.2266 - val_accuracy: 0.9073 - val_loss: 0.2194\n",
      "Epoch 74/100\n",
      "266/266 - 1s - 2ms/step - accuracy: 0.9049 - loss: 0.2229 - val_accuracy: 0.9077 - val_loss: 0.2073\n",
      "Epoch 75/100\n",
      "266/266 - 1s - 2ms/step - accuracy: 0.9097 - loss: 0.2242 - val_accuracy: 0.9035 - val_loss: 0.2187\n",
      "Epoch 76/100\n",
      "266/266 - 1s - 2ms/step - accuracy: 0.9028 - loss: 0.2268 - val_accuracy: 0.9101 - val_loss: 0.2119\n",
      "Epoch 77/100\n",
      "266/266 - 1s - 2ms/step - accuracy: 0.9049 - loss: 0.2221 - val_accuracy: 0.9091 - val_loss: 0.2132\n",
      "Epoch 78/100\n",
      "266/266 - 1s - 2ms/step - accuracy: 0.9085 - loss: 0.2234 - val_accuracy: 0.8955 - val_loss: 0.2310\n",
      "Epoch 79/100\n",
      "266/266 - 1s - 2ms/step - accuracy: 0.9073 - loss: 0.2218 - val_accuracy: 0.9124 - val_loss: 0.2055\n",
      "Epoch 80/100\n",
      "266/266 - 1s - 2ms/step - accuracy: 0.9109 - loss: 0.2196 - val_accuracy: 0.9049 - val_loss: 0.2141\n",
      "Epoch 81/100\n",
      "266/266 - 1s - 2ms/step - accuracy: 0.9065 - loss: 0.2222 - val_accuracy: 0.9101 - val_loss: 0.2105\n",
      "Epoch 82/100\n",
      "266/266 - 1s - 2ms/step - accuracy: 0.9097 - loss: 0.2230 - val_accuracy: 0.9143 - val_loss: 0.2048\n",
      "Epoch 83/100\n",
      "266/266 - 0s - 2ms/step - accuracy: 0.9099 - loss: 0.2135 - val_accuracy: 0.9087 - val_loss: 0.2078\n",
      "Epoch 84/100\n",
      "266/266 - 1s - 2ms/step - accuracy: 0.9092 - loss: 0.2187 - val_accuracy: 0.9063 - val_loss: 0.2092\n",
      "Epoch 85/100\n",
      "266/266 - 1s - 2ms/step - accuracy: 0.9086 - loss: 0.2193 - val_accuracy: 0.9110 - val_loss: 0.2125\n",
      "Epoch 86/100\n",
      "266/266 - 1s - 2ms/step - accuracy: 0.9094 - loss: 0.2188 - val_accuracy: 0.9115 - val_loss: 0.2050\n",
      "Epoch 87/100\n",
      "266/266 - 1s - 2ms/step - accuracy: 0.9102 - loss: 0.2162 - val_accuracy: 0.9091 - val_loss: 0.2103\n",
      "Epoch 88/100\n",
      "266/266 - 1s - 2ms/step - accuracy: 0.9087 - loss: 0.2185 - val_accuracy: 0.9138 - val_loss: 0.2105\n",
      "Epoch 89/100\n",
      "266/266 - 1s - 2ms/step - accuracy: 0.9131 - loss: 0.2142 - val_accuracy: 0.9110 - val_loss: 0.2057\n",
      "Epoch 90/100\n",
      "266/266 - 1s - 2ms/step - accuracy: 0.9103 - loss: 0.2158 - val_accuracy: 0.9077 - val_loss: 0.2057\n",
      "Epoch 91/100\n",
      "266/266 - 1s - 2ms/step - accuracy: 0.9079 - loss: 0.2113 - val_accuracy: 0.9091 - val_loss: 0.1989\n",
      "Epoch 92/100\n",
      "266/266 - 1s - 2ms/step - accuracy: 0.9107 - loss: 0.2154 - val_accuracy: 0.9138 - val_loss: 0.2015\n",
      "Epoch 93/100\n",
      "266/266 - 1s - 2ms/step - accuracy: 0.9111 - loss: 0.2169 - val_accuracy: 0.9124 - val_loss: 0.2055\n",
      "Epoch 94/100\n",
      "266/266 - 1s - 2ms/step - accuracy: 0.9103 - loss: 0.2149 - val_accuracy: 0.9087 - val_loss: 0.2060\n",
      "Epoch 95/100\n",
      "266/266 - 1s - 2ms/step - accuracy: 0.9123 - loss: 0.2131 - val_accuracy: 0.9096 - val_loss: 0.2084\n",
      "Epoch 96/100\n",
      "266/266 - 1s - 2ms/step - accuracy: 0.9107 - loss: 0.2127 - val_accuracy: 0.9138 - val_loss: 0.2052\n",
      "Epoch 97/100\n",
      "266/266 - 1s - 2ms/step - accuracy: 0.9107 - loss: 0.2130 - val_accuracy: 0.9063 - val_loss: 0.2018\n",
      "Epoch 98/100\n",
      "266/266 - 1s - 2ms/step - accuracy: 0.9099 - loss: 0.2128 - val_accuracy: 0.9120 - val_loss: 0.1999\n",
      "Epoch 99/100\n",
      "266/266 - 1s - 2ms/step - accuracy: 0.9103 - loss: 0.2078 - val_accuracy: 0.9110 - val_loss: 0.2035\n",
      "Epoch 100/100\n",
      "266/266 - 1s - 2ms/step - accuracy: 0.9090 - loss: 0.2183 - val_accuracy: 0.9134 - val_loss: 0.2029\n"
     ]
    }
   ],
   "source": [
    "# Fit the model\n",
    "history = model.fit(\n",
    "    X_train_full, \n",
    "    y_train_full, \n",
    "    epochs=100, \n",
    "    batch_size=32, \n",
    "    validation_split=0.2, \n",
    "    callbacks=[early_stopping],\n",
    "    verbose=2\n",
    ")\n",
    "\n",
    "# Evaluation\n",
    "\n",
    "acc = history.history['accuracy']\n",
    "val_acc = history.history['val_accuracy']\n",
    "loss = history.history['loss']\n",
    "val_loss = history.history['val_loss']\n",
    "epochs = range(1, len(acc) + 1)"
   ]
  },
  {
   "cell_type": "code",
   "execution_count": 61,
   "metadata": {},
   "outputs": [
    {
     "data": {
      "image/png": "[encoded data removed]",
      "text/plain": [
       "<Figure size 1200x600 with 2 Axes>"
      ]
     },
     "metadata": {},
     "output_type": "display_data"
    }
   ],
   "source": [
    "# Plot training & validation accuracy values\n",
    "plt.figure(figsize=(12, 6))\n",
    "plt.subplot(1, 2, 1)\n",
    "plt.plot(epochs, acc, 'b', label='Training accuracy')\n",
    "plt.plot(epochs, val_acc, 'r', label='Validation accuracy')\n",
    "plt.title('Training and Validation Accuracy')\n",
    "plt.xlabel('Epoch')\n",
    "plt.ylabel('Accuracy')\n",
    "plt.legend()\n",
    "\n",
    "# Plot training & validation loss values\n",
    "plt.subplot(1, 2, 2)\n",
    "plt.plot(epochs, loss, 'b', label='Training loss')\n",
    "plt.plot(epochs, val_loss, 'r', label='Validation loss')\n",
    "plt.title('Training and Validation Loss')\n",
    "plt.xlabel('Epoch')\n",
    "plt.ylabel('Loss')\n",
    "plt.legend()\n",
    "\n",
    "plt.tight_layout()\n",
    "plt.show()"
   ]
  },
  {
   "cell_type": "code",
   "execution_count": 62,
   "metadata": {},
   "outputs": [
    {
     "name": "stdout",
     "output_type": "stream",
     "text": [
      "\u001b[1m111/111\u001b[0m \u001b[32m━━━━━━━━━━━━━━━━━━━━\u001b[0m\u001b[37m\u001b[0m \u001b[1m0s\u001b[0m 1ms/step - accuracy: 0.9167 - loss: 0.2072\n",
      "Test Accuracy: 0.9132523536682129\n",
      "\u001b[1m111/111\u001b[0m \u001b[32m━━━━━━━━━━━━━━━━━━━━\u001b[0m\u001b[37m\u001b[0m \u001b[1m0s\u001b[0m 1ms/step\n",
      "Precision: 0.8992154496077248\n",
      "Recall: 0.9141104294478528\n",
      "F1 Score: 0.9066017645269242\n",
      "ROC AUC Score: 0.9714778559423074\n"
     ]
    }
   ],
   "source": [
    "loss, accuracy = model.evaluate(X_test, y_test)\n",
    "print(f'Test Accuracy: {accuracy}')\n",
    "\n",
    "# Predictions\n",
    "y_pred_proba = model.predict(X_test).flatten()\n",
    "y_pred = (y_pred_proba > 0.5).astype(int)\n",
    "\n",
    "# Calculating additional metrics\n",
    "precision = precision_score(y_test, y_pred)\n",
    "recall = recall_score(y_test, y_pred)\n",
    "f1 = f1_score(y_test, y_pred)\n",
    "roc_auc = roc_auc_score(y_test, y_pred_proba)  # roc_auc_score expects probability scores\n",
    "\n",
    "print(f'Precision: {precision}')\n",
    "print(f'Recall: {recall}')\n",
    "print(f'F1 Score: {f1}')\n",
    "print(f'ROC AUC Score: {roc_auc}')\n"
   ]
  },
  {
   "cell_type": "code",
   "execution_count": 4,
   "metadata": {},
   "outputs": [],
   "source": [
    "import pandas as pd\n",
    "\n",
    "# Load transactions from a CSV file\n",
    "transactions_df = pd.read_csv('./data/transactions.csv')\n",
    "\n",
    "# Convert the 'value' column to integers for calculation purposes\n",
    "# This assumes all values in the 'value' column are numeric and can be converted to integers\n",
    "transactions_df['value'] = transactions_df['value'].astype(int)\n",
    "\n",
    "# Convert timestamps from string to datetime\n",
    "transactions_df['timeStamp'] = pd.to_datetime(transactions_df['timeStamp'], unit='s')\n",
    "\n",
    "# Calculate time differences in minutes for subsequent transactions\n",
    "transactions_df.sort_values('timeStamp', inplace=True)\n",
    "transactions_df['time_diff'] = transactions_df['timeStamp'].diff().dt.total_seconds() / 60\n",
    "\n",
    "# Filter out sent and received transactions\n",
    "sent_transactions = transactions_df[transactions_df['from'].str.lower() == '0x9A23A93905a0CEf884ACB6F6488BC5D7b964EF73'.lower()]\n",
    "received_transactions = transactions_df[transactions_df['to'].str.lower() == '0x9A23A93905a0CEf884ACB6F6488BC5D7b964EF73'.lower()]\n",
    "\n",
    "# Calculate various metrics with conversions from Wei to Ether\n",
    "metrics = {\n",
    "    'Avg min between sent tnx': sent_transactions['time_diff'].mean(),\n",
    "    'Avg min between received tnx': received_transactions['time_diff'].mean(),\n",
    "    'Time Diff between first and last (Mins)': (transactions_df['timeStamp'].iloc[-1] - transactions_df['timeStamp'].iloc[0]).total_seconds() / 60,\n",
    "    'Unique Received From Addresses': received_transactions['from'].nunique(),\n",
    "    'min value received': received_transactions['value'].min() / 1e18,\n",
    "    'max value received ': received_transactions['value'].max() / 1e18,\n",
    "    'avg val received': received_transactions['value'].mean() / 1e18,\n",
    "    'min val sent': sent_transactions['value'].min() / 1e18,\n",
    "    'avg val sent': sent_transactions['value'].mean() / 1e18,\n",
    "    'total transactions (including tnx to create contract': transactions_df.shape[0],\n",
    "    'total ether received': received_transactions['value'].sum() / 1e18,\n",
    "    'total ether balance': transactions_df['value'].sum() / 1e18  # Simplistic balance calculation\n",
    "}"
   ]
  },
  {
   "cell_type": "code",
   "execution_count": 5,
   "metadata": {},
   "outputs": [],
   "source": [
    "metrics_df = pd.DataFrame([metrics])"
   ]
  },
  {
   "cell_type": "code",
   "execution_count": null,
   "metadata": {},
   "outputs": [],
   "source": []
  },
  {
   "cell_type": "code",
   "execution_count": 6,
   "metadata": {},
   "outputs": [],
   "source": [
    "for c in metrics_df.columns:\n",
    "    if metrics_df[c].iloc[0] > 0:\n",
    "        metrics_df[c] = np.log(metrics_df[c] + 1)"
   ]
  },
  {
   "cell_type": "code",
   "execution_count": 7,
   "metadata": {},
   "outputs": [],
   "source": [
    "metrics_scaled = scaler.transform(metrics_df)"
   ]
  },
  {
   "cell_type": "code",
   "execution_count": 8,
   "metadata": {},
   "outputs": [
    {
     "data": {
      "text/plain": [
       "array([[0.49400726, 0.67545201, 0.9189675 , 0.27848886, 0.81830501,\n",
       "        0.49151682, 0.51844038, 0.6536654 , 0.59898549, 0.73128432,\n",
       "        0.42758327, 0.37626156]])"
      ]
     },
     "execution_count": 8,
     "metadata": {},
     "output_type": "execute_result"
    }
   ],
   "source": [
    "metrics_scaled"
   ]
  },
  {
   "cell_type": "code",
   "execution_count": 10,
   "metadata": {},
   "outputs": [
    {
     "name": "stdout",
     "output_type": "stream",
     "text": [
      "\u001b[1m1/1\u001b[0m \u001b[32m━━━━━━━━━━━━━━━━━━━━\u001b[0m\u001b[37m\u001b[0m \u001b[1m0s\u001b[0m 66ms/step\n",
      "Prediction: 0.8538641929626465\n"
     ]
    }
   ],
   "source": [
    "# Make predictions\n",
    "prediction = model.predict(metrics_scaled)\n",
    "\n",
    "# Output the prediction\n",
    "print(f\"Prediction: {prediction[0][0]}\")"
   ]
  },
  {
   "cell_type": "code",
   "execution_count": 11,
   "metadata": {},
   "outputs": [],
   "source": [
    "model.output_names = ['output']\n",
    "model.build(input_shape=(None, X_train_full.shape[1]))"
   ]
  },
  {
   "cell_type": "code",
   "execution_count": 12,
   "metadata": {},
   "outputs": [],
   "source": [
    "# conversion based on the expected input shape\n",
    "input_spec = [tf.TensorSpec([None, X_train_full.shape[1]], tf.float32, name='input')]"
   ]
  },
  {
   "cell_type": "code",
   "execution_count": 13,
   "metadata": {},
   "outputs": [],
   "source": [
    "import onnxmltools\n",
    "import tf2onnx"
   ]
  },
  {
   "cell_type": "code",
   "execution_count": 14,
   "metadata": {},
   "outputs": [
    {
     "name": "stderr",
     "output_type": "stream",
     "text": [
      "2024-06-08 18:50:35.334788: I external/local_xla/xla/stream_executor/cuda/cuda_executor.cc:984] could not open file to read NUMA node: /sys/bus/pci/devices/0000:02:00.0/numa_node\n",
      "Your kernel may have been built without NUMA support.\n",
      "2024-06-08 18:50:35.334877: I tensorflow/core/grappler/devices.cc:66] Number of eligible GPUs (core count >= 8, compute capability >= 0.0): 1\n",
      "2024-06-08 18:50:35.335130: I tensorflow/core/grappler/clusters/single_machine.cc:361] Starting new session\n",
      "2024-06-08 18:50:35.336930: I external/local_xla/xla/stream_executor/cuda/cuda_executor.cc:984] could not open file to read NUMA node: /sys/bus/pci/devices/0000:02:00.0/numa_node\n",
      "Your kernel may have been built without NUMA support.\n",
      "2024-06-08 18:50:35.336968: W tensorflow/core/common_runtime/gpu/gpu_device.cc:2251] Cannot dlopen some GPU libraries. Please make sure the missing libraries mentioned above are installed properly if you would like to use GPU. Follow the guide at https://www.tensorflow.org/install/gpu for how to download and setup the required libraries for your platform.\n",
      "Skipping registering GPU devices...\n",
      "2024-06-08 18:50:35.590565: I external/local_xla/xla/stream_executor/cuda/cuda_executor.cc:984] could not open file to read NUMA node: /sys/bus/pci/devices/0000:02:00.0/numa_node\n",
      "Your kernel may have been built without NUMA support.\n",
      "2024-06-08 18:50:35.590629: I tensorflow/core/grappler/devices.cc:66] Number of eligible GPUs (core count >= 8, compute capability >= 0.0): 1\n",
      "2024-06-08 18:50:35.590813: I tensorflow/core/grappler/clusters/single_machine.cc:361] Starting new session\n",
      "2024-06-08 18:50:35.592148: I external/local_xla/xla/stream_executor/cuda/cuda_executor.cc:984] could not open file to read NUMA node: /sys/bus/pci/devices/0000:02:00.0/numa_node\n",
      "Your kernel may have been built without NUMA support.\n",
      "2024-06-08 18:50:35.592214: W tensorflow/core/common_runtime/gpu/gpu_device.cc:2251] Cannot dlopen some GPU libraries. Please make sure the missing libraries mentioned above are installed properly if you would like to use GPU. Follow the guide at https://www.tensorflow.org/install/gpu for how to download and setup the required libraries for your platform.\n",
      "Skipping registering GPU devices...\n"
     ]
    }
   ],
   "source": [
    "# Convert the model to ONNX format\n",
    "onnx_model, _ = tf2onnx.convert.from_keras(model=model, input_signature=input_spec, opset=13)"
   ]
  },
  {
   "cell_type": "code",
   "execution_count": 76,
   "metadata": {},
   "outputs": [],
   "source": [
    "onnx_file_path = './fraud-eth-account-detect.onnx'\n",
    "with open(onnx_file_path, \"wb\") as f:\n",
    "    f.write(onnx_model.SerializeToString())"
   ]
  },
  {
   "cell_type": "code",
   "execution_count": 9,
   "metadata": {},
   "outputs": [
    {
     "name": "stdout",
     "output_type": "stream",
     "text": [
      "{'job_size': 'M', 'args': '[1 12] [32375 0 44266 0 60225 0 18251 0 53628 0 32212 0 33976 0 42838 0 39255 0 47925 0 28022 0 24658 0]'}\n",
      "🚀 Starting deserialization process...\n",
      "✅ Deserialization completed! 🎉\n",
      "(array([[0.84159851]]), 'e4ae19a0e7b74380977a36c83b1a4548')\n"
     ]
    },
    {
     "data": {
      "text/plain": [
       "(array([[0.84159851]]), 'e4ae19a0e7b74380977a36c83b1a4548')"
      ]
     },
     "execution_count": 9,
     "metadata": {},
     "output_type": "execute_result"
    }
   ],
   "source": [
    "from giza.agents.model import GizaModel\n",
    "\n",
    "MODEL_ID = 759 \n",
    "VERSION_ID = 1  \n",
    "\n",
    "def prediction(input, model_id, version_id):\n",
    "    try:\n",
    "        model = GizaModel(id=model_id, version=version_id)\n",
    "\n",
    "        (result, proof_id) = model.predict(\n",
    "            input_feed={'input': input}, verifiable=True\n",
    "        )\n",
    "        return result, proof_id\n",
    "    except Exception as e:\n",
    "        print(\"Failed to make prediction:\", e)\n",
    "        raise\n",
    "\n",
    "def execution():\n",
    "\n",
    "    input = metrics_scaled.astype(np.float32)\n",
    "\n",
    "    (result, proof_id) = prediction(input, MODEL_ID, VERSION_ID)\n",
    "\n",
    "    print((result, proof_id))\n",
    "\n",
    "    return result, proof_id\n",
    "\n",
    "\n",
    "execution()"
   ]
  },
  {
   "cell_type": "code",
   "execution_count": null,
   "metadata": {},
   "outputs": [],
   "source": []
  }
 ],
 "metadata": {
  "kernelspec": {
   "display_name": "Python 3",
   "language": "python",
   "name": "python3"
  },
  "language_info": {
   "codemirror_mode": {
    "name": "ipython",
    "version": 3
   },
   "file_extension": ".py",
   "mimetype": "text/x-python",
   "name": "python",
   "nbconvert_exporter": "python",
   "pygments_lexer": "ipython3",
   "version": "3.11.5"
  }
 },
 "nbformat": 4,
 "nbformat_minor": 2
}
