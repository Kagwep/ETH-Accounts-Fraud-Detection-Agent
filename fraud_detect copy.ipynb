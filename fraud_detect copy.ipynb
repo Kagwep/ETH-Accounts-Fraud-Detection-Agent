{
 "cells": [
  {
   "cell_type": "code",
   "execution_count": 1,
   "metadata": {},
   "outputs": [
    {
     "name": "stderr",
     "output_type": "stream",
     "text": [
      "2024-06-07 20:23:30.288878: I external/local_tsl/tsl/cuda/cudart_stub.cc:32] Could not find cuda drivers on your machine, GPU will not be used.\n",
      "2024-06-07 20:23:30.292082: I external/local_tsl/tsl/cuda/cudart_stub.cc:32] Could not find cuda drivers on your machine, GPU will not be used.\n",
      "2024-06-07 20:23:30.332207: I tensorflow/core/platform/cpu_feature_guard.cc:210] This TensorFlow binary is optimized to use available CPU instructions in performance-critical operations.\n",
      "To enable the following instructions: AVX2 AVX512F FMA, in other operations, rebuild TensorFlow with the appropriate compiler flags.\n",
      "2024-06-07 20:23:31.448627: W tensorflow/compiler/tf2tensorrt/utils/py_utils.cc:38] TF-TRT Warning: Could not find TensorRT\n"
     ]
    }
   ],
   "source": [
    "import numpy as np\n",
    "import pandas as pd\n",
    "import tensorflow as tf\n",
    "from sklearn.model_selection import train_test_split\n",
    "from sklearn.preprocessing import MinMaxScaler\n",
    "from sklearn.metrics import f1_score, roc_auc_score, recall_score, accuracy_score, precision_score\n",
    "import matplotlib\n",
    "import matplotlib.pyplot as plt\n",
    "import seaborn as sns\n",
    "matplotlib.rcParams['figure.figsize'] = (11.0, 8.0)\n",
    "\n",
    "import warnings\n",
    "warnings.filterwarnings('ignore')\n"
   ]
  },
  {
   "cell_type": "code",
   "execution_count": 2,
   "metadata": {},
   "outputs": [],
   "source": [
    "#Importing Data\n",
    "df = pd.read_csv('./address_data_combined.csv')\n",
    "X = df.drop(columns=['Address', 'FLAG'])\n",
    "y = df['FLAG']\n",
    "X_train_full, X_test, y_train_full, y_test = train_test_split(X, y, test_size=0.3, random_state=42, stratify=y)\n",
    "\n",
    "\n",
    "columns = ['Avg min between sent tnx', 'Avg min between received tnx',\n",
    "       'Time Diff between first and last (Mins)',\n",
    "       'Unique Received From Addresses', 'min value received',\n",
    "       'max value received ', 'avg val received', 'min val sent',\n",
    "       'avg val sent', 'total transactions (including tnx to create contract',\n",
    "       'total ether received', 'total ether balance']\n",
    "    \n",
    "scaler = MinMaxScaler()"
   ]
  },
  {
   "cell_type": "code",
   "execution_count": 3,
   "metadata": {},
   "outputs": [
    {
     "data": {
      "text/plain": [
       "array([[False, False, False, ..., False, False, False],\n",
       "       [False, False, False, ..., False, False, False],\n",
       "       [False, False, False, ..., False, False, False],\n",
       "       ...,\n",
       "       [False, False, False, ..., False, False, False],\n",
       "       [False, False, False, ..., False, False, False],\n",
       "       [False, False, False, ..., False, False, False]])"
      ]
     },
     "execution_count": 3,
     "metadata": {},
     "output_type": "execute_result"
    }
   ],
   "source": [
    "# Log for Skewed Data\n",
    "for c in columns:\n",
    "    X_train_full[c] = X_train_full[c].apply(lambda x: np.log(x) if x > 0 else 0)\n",
    "    X_test[c] = X_test[c].apply(lambda x: np.log(x) if x > 0 else 0)\n",
    "\n",
    "# Scaling\n",
    "X_train_full = scaler.fit_transform(X_train_full)\n",
    "X_test = scaler.transform(X_test)\n",
    "\n",
    "np.isnan(X_train_full)"
   ]
  },
  {
   "cell_type": "code",
   "execution_count": 4,
   "metadata": {},
   "outputs": [
    {
     "name": "stderr",
     "output_type": "stream",
     "text": [
      "2024-06-07 20:25:52.484843: I external/local_xla/xla/stream_executor/cuda/cuda_executor.cc:984] could not open file to read NUMA node: /sys/bus/pci/devices/0000:02:00.0/numa_node\n",
      "Your kernel may have been built without NUMA support.\n",
      "2024-06-07 20:25:52.485270: W tensorflow/core/common_runtime/gpu/gpu_device.cc:2251] Cannot dlopen some GPU libraries. Please make sure the missing libraries mentioned above are installed properly if you would like to use GPU. Follow the guide at https://www.tensorflow.org/install/gpu for how to download and setup the required libraries for your platform.\n",
      "Skipping registering GPU devices...\n"
     ]
    }
   ],
   "source": [
    "X_train_full_tensor = tf.convert_to_tensor(X_train_full, dtype=tf.float32)\n",
    "X_test_tensor = tf.convert_to_tensor(X_test, dtype=tf.float32)\n",
    "y_train_full_tensor = tf.convert_to_tensor(y_train_full.values, dtype=tf.float32)\n",
    "y_test_tensor = tf.convert_to_tensor(y_test.values, dtype=tf.float32)"
   ]
  },
  {
   "cell_type": "code",
   "execution_count": 5,
   "metadata": {},
   "outputs": [],
   "source": [
    "# TensorFlow setup for logistic regression\n",
    "def build_logistic_regression_model(input_dim):\n",
    "    model = tf.keras.Sequential([\n",
    "        tf.keras.layers.InputLayer(input_shape=(input_dim,)),\n",
    "        tf.keras.layers.Dense(1, activation='sigmoid')\n",
    "    ])\n",
    "    \n",
    "    model.compile(optimizer=tf.keras.optimizers.Adam(learning_rate=0.001),\n",
    "                  loss='binary_crossentropy',\n",
    "                  metrics=['accuracy'])\n",
    "    return model\n",
    "\n",
    "# Build the model\n",
    "model = build_logistic_regression_model(X_train_full_tensor.shape[1])"
   ]
  },
  {
   "cell_type": "code",
   "execution_count": 6,
   "metadata": {},
   "outputs": [
    {
     "name": "stdout",
     "output_type": "stream",
     "text": [
      "Epoch 1/100\n",
      "248/248 - 1s - 5ms/step - accuracy: 0.6271 - loss: 0.6683 - val_accuracy: 0.6352 - val_loss: 0.6664\n",
      "Epoch 2/100\n",
      "248/248 - 0s - 2ms/step - accuracy: 0.6568 - loss: 0.6579 - val_accuracy: 0.6312 - val_loss: 0.6558\n",
      "Epoch 3/100\n",
      "248/248 - 1s - 2ms/step - accuracy: 0.6581 - loss: 0.6484 - val_accuracy: 0.6342 - val_loss: 0.6459\n",
      "Epoch 4/100\n",
      "248/248 - 0s - 2ms/step - accuracy: 0.6583 - loss: 0.6394 - val_accuracy: 0.6372 - val_loss: 0.6367\n",
      "Epoch 5/100\n",
      "248/248 - 0s - 2ms/step - accuracy: 0.6623 - loss: 0.6306 - val_accuracy: 0.6443 - val_loss: 0.6274\n",
      "Epoch 6/100\n",
      "248/248 - 1s - 2ms/step - accuracy: 0.6663 - loss: 0.6221 - val_accuracy: 0.6579 - val_loss: 0.6182\n",
      "Epoch 7/100\n",
      "248/248 - 1s - 3ms/step - accuracy: 0.6813 - loss: 0.6141 - val_accuracy: 0.6670 - val_loss: 0.6099\n",
      "Epoch 8/100\n",
      "248/248 - 0s - 2ms/step - accuracy: 0.6905 - loss: 0.6064 - val_accuracy: 0.6705 - val_loss: 0.6023\n",
      "Epoch 9/100\n",
      "248/248 - 0s - 2ms/step - accuracy: 0.7024 - loss: 0.5991 - val_accuracy: 0.7316 - val_loss: 0.5940\n",
      "Epoch 10/100\n",
      "248/248 - 1s - 2ms/step - accuracy: 0.7194 - loss: 0.5923 - val_accuracy: 0.7422 - val_loss: 0.5866\n",
      "Epoch 11/100\n",
      "248/248 - 1s - 3ms/step - accuracy: 0.7420 - loss: 0.5855 - val_accuracy: 0.7164 - val_loss: 0.5805\n",
      "Epoch 12/100\n",
      "248/248 - 1s - 2ms/step - accuracy: 0.7455 - loss: 0.5792 - val_accuracy: 0.7462 - val_loss: 0.5731\n",
      "Epoch 13/100\n",
      "248/248 - 0s - 1ms/step - accuracy: 0.7540 - loss: 0.5732 - val_accuracy: 0.7598 - val_loss: 0.5663\n",
      "Epoch 14/100\n",
      "248/248 - 1s - 3ms/step - accuracy: 0.7658 - loss: 0.5669 - val_accuracy: 0.7608 - val_loss: 0.5603\n",
      "Epoch 15/100\n",
      "248/248 - 1s - 2ms/step - accuracy: 0.7685 - loss: 0.5613 - val_accuracy: 0.7790 - val_loss: 0.5537\n",
      "Epoch 16/100\n",
      "248/248 - 1s - 2ms/step - accuracy: 0.7774 - loss: 0.5558 - val_accuracy: 0.7780 - val_loss: 0.5482\n",
      "Epoch 17/100\n",
      "248/248 - 0s - 2ms/step - accuracy: 0.7820 - loss: 0.5505 - val_accuracy: 0.7856 - val_loss: 0.5422\n",
      "Epoch 18/100\n",
      "248/248 - 1s - 3ms/step - accuracy: 0.7864 - loss: 0.5456 - val_accuracy: 0.7866 - val_loss: 0.5370\n",
      "Epoch 19/100\n",
      "248/248 - 0s - 2ms/step - accuracy: 0.7889 - loss: 0.5407 - val_accuracy: 0.7941 - val_loss: 0.5314\n",
      "Epoch 20/100\n",
      "248/248 - 1s - 2ms/step - accuracy: 0.7927 - loss: 0.5360 - val_accuracy: 0.7977 - val_loss: 0.5265\n",
      "Epoch 21/100\n",
      "248/248 - 0s - 2ms/step - accuracy: 0.7961 - loss: 0.5315 - val_accuracy: 0.8083 - val_loss: 0.5212\n",
      "Epoch 22/100\n",
      "248/248 - 1s - 2ms/step - accuracy: 0.7991 - loss: 0.5271 - val_accuracy: 0.8108 - val_loss: 0.5164\n",
      "Epoch 23/100\n",
      "248/248 - 0s - 2ms/step - accuracy: 0.8018 - loss: 0.5227 - val_accuracy: 0.7987 - val_loss: 0.5129\n",
      "Epoch 24/100\n",
      "248/248 - 1s - 2ms/step - accuracy: 0.8003 - loss: 0.5190 - val_accuracy: 0.8108 - val_loss: 0.5078\n",
      "Epoch 25/100\n",
      "248/248 - 0s - 2ms/step - accuracy: 0.8039 - loss: 0.5153 - val_accuracy: 0.8113 - val_loss: 0.5036\n",
      "Epoch 26/100\n",
      "248/248 - 0s - 2ms/step - accuracy: 0.8034 - loss: 0.5117 - val_accuracy: 0.8128 - val_loss: 0.4996\n",
      "Epoch 27/100\n",
      "248/248 - 1s - 2ms/step - accuracy: 0.8063 - loss: 0.5082 - val_accuracy: 0.8184 - val_loss: 0.4956\n",
      "Epoch 28/100\n",
      "248/248 - 0s - 2ms/step - accuracy: 0.8085 - loss: 0.5049 - val_accuracy: 0.8118 - val_loss: 0.4923\n",
      "Epoch 29/100\n",
      "248/248 - 1s - 2ms/step - accuracy: 0.8080 - loss: 0.5016 - val_accuracy: 0.8123 - val_loss: 0.4889\n",
      "Epoch 30/100\n",
      "248/248 - 1s - 2ms/step - accuracy: 0.8082 - loss: 0.4986 - val_accuracy: 0.8234 - val_loss: 0.4851\n",
      "Epoch 31/100\n",
      "248/248 - 1s - 2ms/step - accuracy: 0.8095 - loss: 0.4958 - val_accuracy: 0.8254 - val_loss: 0.4817\n",
      "Epoch 32/100\n",
      "248/248 - 1s - 3ms/step - accuracy: 0.8086 - loss: 0.4928 - val_accuracy: 0.8158 - val_loss: 0.4792\n",
      "Epoch 33/100\n",
      "248/248 - 0s - 2ms/step - accuracy: 0.8104 - loss: 0.4901 - val_accuracy: 0.8290 - val_loss: 0.4755\n",
      "Epoch 34/100\n",
      "248/248 - 1s - 3ms/step - accuracy: 0.8106 - loss: 0.4875 - val_accuracy: 0.8239 - val_loss: 0.4728\n",
      "Epoch 35/100\n",
      "248/248 - 0s - 2ms/step - accuracy: 0.8109 - loss: 0.4850 - val_accuracy: 0.8249 - val_loss: 0.4700\n",
      "Epoch 36/100\n",
      "248/248 - 1s - 2ms/step - accuracy: 0.8105 - loss: 0.4824 - val_accuracy: 0.8335 - val_loss: 0.4670\n",
      "Epoch 37/100\n",
      "248/248 - 0s - 2ms/step - accuracy: 0.8120 - loss: 0.4801 - val_accuracy: 0.8214 - val_loss: 0.4652\n",
      "Epoch 38/100\n",
      "248/248 - 0s - 2ms/step - accuracy: 0.8126 - loss: 0.4778 - val_accuracy: 0.8325 - val_loss: 0.4617\n",
      "Epoch 39/100\n",
      "248/248 - 0s - 2ms/step - accuracy: 0.8119 - loss: 0.4756 - val_accuracy: 0.8330 - val_loss: 0.4592\n",
      "Epoch 40/100\n",
      "248/248 - 0s - 2ms/step - accuracy: 0.8128 - loss: 0.4734 - val_accuracy: 0.8280 - val_loss: 0.4572\n",
      "Epoch 41/100\n",
      "248/248 - 0s - 2ms/step - accuracy: 0.8137 - loss: 0.4714 - val_accuracy: 0.8315 - val_loss: 0.4546\n",
      "Epoch 42/100\n",
      "248/248 - 0s - 2ms/step - accuracy: 0.8133 - loss: 0.4693 - val_accuracy: 0.8325 - val_loss: 0.4522\n",
      "Epoch 43/100\n",
      "248/248 - 0s - 1ms/step - accuracy: 0.8121 - loss: 0.4673 - val_accuracy: 0.8300 - val_loss: 0.4504\n",
      "Epoch 44/100\n",
      "248/248 - 0s - 2ms/step - accuracy: 0.8138 - loss: 0.4655 - val_accuracy: 0.8305 - val_loss: 0.4483\n",
      "Epoch 45/100\n",
      "248/248 - 0s - 2ms/step - accuracy: 0.8137 - loss: 0.4636 - val_accuracy: 0.8335 - val_loss: 0.4459\n",
      "Epoch 46/100\n",
      "248/248 - 1s - 2ms/step - accuracy: 0.8147 - loss: 0.4620 - val_accuracy: 0.8320 - val_loss: 0.4441\n",
      "Epoch 47/100\n",
      "248/248 - 0s - 2ms/step - accuracy: 0.8139 - loss: 0.4602 - val_accuracy: 0.8340 - val_loss: 0.4420\n",
      "Epoch 48/100\n",
      "248/248 - 0s - 2ms/step - accuracy: 0.8137 - loss: 0.4588 - val_accuracy: 0.8330 - val_loss: 0.4403\n",
      "Epoch 49/100\n",
      "248/248 - 1s - 2ms/step - accuracy: 0.8140 - loss: 0.4570 - val_accuracy: 0.8360 - val_loss: 0.4381\n",
      "Epoch 50/100\n",
      "248/248 - 0s - 2ms/step - accuracy: 0.8139 - loss: 0.4555 - val_accuracy: 0.8355 - val_loss: 0.4364\n",
      "Epoch 51/100\n",
      "248/248 - 0s - 1ms/step - accuracy: 0.8148 - loss: 0.4540 - val_accuracy: 0.8345 - val_loss: 0.4347\n",
      "Epoch 52/100\n",
      "248/248 - 0s - 2ms/step - accuracy: 0.8139 - loss: 0.4524 - val_accuracy: 0.8391 - val_loss: 0.4329\n",
      "Epoch 53/100\n",
      "248/248 - 0s - 1ms/step - accuracy: 0.8135 - loss: 0.4512 - val_accuracy: 0.8380 - val_loss: 0.4313\n",
      "Epoch 54/100\n",
      "248/248 - 0s - 2ms/step - accuracy: 0.8139 - loss: 0.4497 - val_accuracy: 0.8355 - val_loss: 0.4299\n",
      "Epoch 55/100\n",
      "248/248 - 0s - 2ms/step - accuracy: 0.8145 - loss: 0.4486 - val_accuracy: 0.8350 - val_loss: 0.4285\n",
      "Epoch 56/100\n",
      "248/248 - 0s - 2ms/step - accuracy: 0.8158 - loss: 0.4472 - val_accuracy: 0.8350 - val_loss: 0.4270\n",
      "Epoch 57/100\n",
      "248/248 - 0s - 2ms/step - accuracy: 0.8144 - loss: 0.4458 - val_accuracy: 0.8350 - val_loss: 0.4260\n",
      "Epoch 58/100\n",
      "248/248 - 0s - 2ms/step - accuracy: 0.8147 - loss: 0.4446 - val_accuracy: 0.8375 - val_loss: 0.4239\n",
      "Epoch 59/100\n",
      "248/248 - 0s - 1ms/step - accuracy: 0.8138 - loss: 0.4437 - val_accuracy: 0.8340 - val_loss: 0.4230\n",
      "Epoch 60/100\n",
      "248/248 - 0s - 2ms/step - accuracy: 0.8144 - loss: 0.4423 - val_accuracy: 0.8350 - val_loss: 0.4219\n",
      "Epoch 61/100\n",
      "248/248 - 0s - 2ms/step - accuracy: 0.8152 - loss: 0.4414 - val_accuracy: 0.8360 - val_loss: 0.4201\n",
      "Epoch 62/100\n",
      "248/248 - 1s - 2ms/step - accuracy: 0.8139 - loss: 0.4402 - val_accuracy: 0.8375 - val_loss: 0.4187\n",
      "Epoch 63/100\n",
      "248/248 - 0s - 2ms/step - accuracy: 0.8155 - loss: 0.4396 - val_accuracy: 0.8396 - val_loss: 0.4174\n",
      "Epoch 64/100\n",
      "248/248 - 0s - 2ms/step - accuracy: 0.8143 - loss: 0.4381 - val_accuracy: 0.8345 - val_loss: 0.4169\n",
      "Epoch 65/100\n",
      "248/248 - 0s - 2ms/step - accuracy: 0.8162 - loss: 0.4373 - val_accuracy: 0.8391 - val_loss: 0.4152\n",
      "Epoch 66/100\n",
      "248/248 - 0s - 2ms/step - accuracy: 0.8155 - loss: 0.4364 - val_accuracy: 0.8380 - val_loss: 0.4141\n",
      "Epoch 67/100\n",
      "248/248 - 1s - 2ms/step - accuracy: 0.8153 - loss: 0.4354 - val_accuracy: 0.8375 - val_loss: 0.4130\n",
      "Epoch 68/100\n",
      "248/248 - 0s - 2ms/step - accuracy: 0.8159 - loss: 0.4345 - val_accuracy: 0.8385 - val_loss: 0.4119\n",
      "Epoch 69/100\n",
      "248/248 - 0s - 1ms/step - accuracy: 0.8148 - loss: 0.4336 - val_accuracy: 0.8360 - val_loss: 0.4112\n",
      "Epoch 70/100\n",
      "248/248 - 0s - 2ms/step - accuracy: 0.8160 - loss: 0.4328 - val_accuracy: 0.8375 - val_loss: 0.4099\n",
      "Epoch 71/100\n",
      "248/248 - 0s - 2ms/step - accuracy: 0.8163 - loss: 0.4320 - val_accuracy: 0.8385 - val_loss: 0.4091\n",
      "Epoch 72/100\n",
      "248/248 - 0s - 1ms/step - accuracy: 0.8152 - loss: 0.4311 - val_accuracy: 0.8385 - val_loss: 0.4081\n",
      "Epoch 73/100\n",
      "248/248 - 0s - 2ms/step - accuracy: 0.8173 - loss: 0.4304 - val_accuracy: 0.8375 - val_loss: 0.4074\n",
      "Epoch 74/100\n",
      "248/248 - 0s - 1ms/step - accuracy: 0.8157 - loss: 0.4299 - val_accuracy: 0.8406 - val_loss: 0.4060\n",
      "Epoch 75/100\n",
      "248/248 - 0s - 1ms/step - accuracy: 0.8160 - loss: 0.4290 - val_accuracy: 0.8406 - val_loss: 0.4051\n",
      "Epoch 76/100\n",
      "248/248 - 0s - 2ms/step - accuracy: 0.8160 - loss: 0.4282 - val_accuracy: 0.8401 - val_loss: 0.4043\n",
      "Epoch 77/100\n",
      "248/248 - 0s - 2ms/step - accuracy: 0.8167 - loss: 0.4274 - val_accuracy: 0.8416 - val_loss: 0.4034\n",
      "Epoch 78/100\n",
      "248/248 - 0s - 1ms/step - accuracy: 0.8159 - loss: 0.4266 - val_accuracy: 0.8396 - val_loss: 0.4028\n",
      "Epoch 79/100\n",
      "248/248 - 0s - 1ms/step - accuracy: 0.8163 - loss: 0.4261 - val_accuracy: 0.8391 - val_loss: 0.4020\n",
      "Epoch 80/100\n",
      "248/248 - 0s - 1ms/step - accuracy: 0.8167 - loss: 0.4254 - val_accuracy: 0.8396 - val_loss: 0.4013\n",
      "Epoch 81/100\n",
      "248/248 - 0s - 1ms/step - accuracy: 0.8169 - loss: 0.4246 - val_accuracy: 0.8406 - val_loss: 0.4001\n",
      "Epoch 82/100\n",
      "248/248 - 0s - 1ms/step - accuracy: 0.8176 - loss: 0.4241 - val_accuracy: 0.8406 - val_loss: 0.3995\n",
      "Epoch 83/100\n",
      "248/248 - 0s - 2ms/step - accuracy: 0.8168 - loss: 0.4234 - val_accuracy: 0.8365 - val_loss: 0.3996\n",
      "Epoch 84/100\n",
      "248/248 - 0s - 2ms/step - accuracy: 0.8187 - loss: 0.4229 - val_accuracy: 0.8411 - val_loss: 0.3980\n",
      "Epoch 85/100\n",
      "248/248 - 0s - 2ms/step - accuracy: 0.8167 - loss: 0.4226 - val_accuracy: 0.8406 - val_loss: 0.3974\n",
      "Epoch 86/100\n",
      "248/248 - 0s - 2ms/step - accuracy: 0.8168 - loss: 0.4219 - val_accuracy: 0.8401 - val_loss: 0.3969\n",
      "Epoch 87/100\n",
      "248/248 - 0s - 2ms/step - accuracy: 0.8178 - loss: 0.4214 - val_accuracy: 0.8411 - val_loss: 0.3959\n",
      "Epoch 88/100\n",
      "248/248 - 0s - 2ms/step - accuracy: 0.8186 - loss: 0.4207 - val_accuracy: 0.8406 - val_loss: 0.3954\n",
      "Epoch 89/100\n",
      "248/248 - 0s - 2ms/step - accuracy: 0.8174 - loss: 0.4202 - val_accuracy: 0.8421 - val_loss: 0.3945\n",
      "Epoch 90/100\n",
      "248/248 - 0s - 1ms/step - accuracy: 0.8178 - loss: 0.4196 - val_accuracy: 0.8416 - val_loss: 0.3940\n",
      "Epoch 91/100\n",
      "248/248 - 0s - 2ms/step - accuracy: 0.8196 - loss: 0.4192 - val_accuracy: 0.8416 - val_loss: 0.3934\n",
      "Epoch 92/100\n",
      "248/248 - 0s - 2ms/step - accuracy: 0.8182 - loss: 0.4190 - val_accuracy: 0.8406 - val_loss: 0.3930\n",
      "Epoch 93/100\n",
      "248/248 - 0s - 2ms/step - accuracy: 0.8172 - loss: 0.4184 - val_accuracy: 0.8406 - val_loss: 0.3924\n",
      "Epoch 94/100\n",
      "248/248 - 0s - 2ms/step - accuracy: 0.8176 - loss: 0.4177 - val_accuracy: 0.8416 - val_loss: 0.3916\n",
      "Epoch 95/100\n",
      "248/248 - 0s - 1ms/step - accuracy: 0.8178 - loss: 0.4172 - val_accuracy: 0.8431 - val_loss: 0.3911\n",
      "Epoch 96/100\n",
      "248/248 - 0s - 1ms/step - accuracy: 0.8181 - loss: 0.4168 - val_accuracy: 0.8411 - val_loss: 0.3907\n",
      "Epoch 97/100\n",
      "248/248 - 0s - 1ms/step - accuracy: 0.8178 - loss: 0.4166 - val_accuracy: 0.8411 - val_loss: 0.3902\n",
      "Epoch 98/100\n",
      "248/248 - 0s - 2ms/step - accuracy: 0.8192 - loss: 0.4160 - val_accuracy: 0.8426 - val_loss: 0.3894\n",
      "Epoch 99/100\n",
      "248/248 - 1s - 2ms/step - accuracy: 0.8184 - loss: 0.4158 - val_accuracy: 0.8411 - val_loss: 0.3889\n",
      "Epoch 100/100\n",
      "248/248 - 0s - 2ms/step - accuracy: 0.8193 - loss: 0.4151 - val_accuracy: 0.8426 - val_loss: 0.3885\n"
     ]
    }
   ],
   "source": [
    "# Train the model\n",
    "history = model.fit(X_train_full_tensor, y_train_full_tensor, validation_split=0.2, epochs=100, batch_size=32, verbose=2)"
   ]
  },
  {
   "cell_type": "code",
   "execution_count": 7,
   "metadata": {},
   "outputs": [
    {
     "name": "stdout",
     "output_type": "stream",
     "text": [
      "\u001b[1m133/133\u001b[0m \u001b[32m━━━━━━━━━━━━━━━━━━━━\u001b[0m\u001b[37m\u001b[0m \u001b[1m0s\u001b[0m 1ms/step - accuracy: 0.8225 - loss: 0.4230\n",
      "Test Loss: 0.4134102165699005, Test Accuracy: 0.8248175382614136\n",
      "\u001b[1m133/133\u001b[0m \u001b[32m━━━━━━━━━━━━━━━━━━━━\u001b[0m\u001b[37m\u001b[0m \u001b[1m0s\u001b[0m 907us/step\n"
     ]
    }
   ],
   "source": [
    "# Evaluate the model\n",
    "loss, accuracy = model.evaluate(X_test_tensor, y_test_tensor)\n",
    "print(f\"Test Loss: {loss}, Test Accuracy: {accuracy}\")\n",
    "\n",
    "# Predictions\n",
    "y_pred_prob = model.predict(X_test_tensor).flatten()\n",
    "y_pred = (y_pred_prob > 0.5).astype(int)\n",
    "\n",
    "# Calculate additional metrics\n",
    "f1 = f1_score(y_test_tensor, y_pred)\n",
    "roc_auc = roc_auc_score(y_test_tensor, y_pred_prob)\n",
    "recall = recall_score(y_test_tensor, y_pred)\n",
    "precision = precision_score(y_test_tensor, y_pred)\n",
    "accuracy = accuracy_score(y_test_tensor, y_pred)"
   ]
  },
  {
   "cell_type": "code",
   "execution_count": 8,
   "metadata": {},
   "outputs": [
    {
     "name": "stderr",
     "output_type": "stream",
     "text": [
      "WARNING:absl:You are saving your model as an HDF5 file via `model.save()` or `keras.saving.save_model(model)`. This file format is considered legacy. We recommend using instead the native Keras format, e.g. `model.save('my_model.keras')` or `keras.saving.save_model(model, 'my_model.keras')`. \n",
      "WARNING:absl:Compiled the loaded model, but the compiled metrics have yet to be built. `model.compile_metrics` will be empty until you train or evaluate the model.\n"
     ]
    },
    {
     "name": "stdout",
     "output_type": "stream",
     "text": [
      "F1 Score: 0.8028616852146264\n",
      "ROC AUC Score: 0.9039782013551739\n",
      "Recall: 0.7745398773006135\n",
      "Precision: 0.8333333333333334\n",
      "Accuracy: 0.8248175182481752\n"
     ]
    }
   ],
   "source": [
    "print(f\"F1 Score: {f1}\")\n",
    "print(f\"ROC AUC Score: {roc_auc}\")\n",
    "print(f\"Recall: {recall}\")\n",
    "print(f\"Precision: {precision}\")\n",
    "print(f\"Accuracy: {accuracy}\")\n",
    "\n",
    "# Save the model\n",
    "model.save('logistic_regression_tf.h5')\n",
    "\n",
    "# Load the model if needed\n",
    "loaded_model = tf.keras.models.load_model('logistic_regression_tf.h5')"
   ]
  },
  {
   "cell_type": "code",
   "execution_count": 9,
   "metadata": {},
   "outputs": [],
   "source": [
    "import pandas as pd\n",
    "\n",
    "# Load transactions from a CSV file\n",
    "transactions_df = pd.read_csv('./transactions.csv')\n",
    "\n",
    "# Convert the 'value' column to integers for calculation purposes\n",
    "# This assumes all values in the 'value' column are numeric and can be converted to integers\n",
    "transactions_df['value'] = transactions_df['value'].astype(int)\n",
    "\n",
    "# Convert timestamps from string to datetime\n",
    "transactions_df['timeStamp'] = pd.to_datetime(transactions_df['timeStamp'], unit='s')\n",
    "\n",
    "# Calculate time differences in minutes for subsequent transactions\n",
    "transactions_df.sort_values('timeStamp', inplace=True)\n",
    "transactions_df['time_diff'] = transactions_df['timeStamp'].diff().dt.total_seconds() / 60\n",
    "\n",
    "# Filter out sent and received transactions\n",
    "sent_transactions = transactions_df[transactions_df['from'].str.lower() == '0x9A23A93905a0CEf884ACB6F6488BC5D7b964EF73'.lower()]\n",
    "received_transactions = transactions_df[transactions_df['to'].str.lower() == '0x9A23A93905a0CEf884ACB6F6488BC5D7b964EF73'.lower()]\n",
    "\n",
    "# Calculate various metrics with conversions from Wei to Ether\n",
    "metrics = {\n",
    "    'Avg min between sent tnx': sent_transactions['time_diff'].mean(),\n",
    "    'Avg min between received tnx': received_transactions['time_diff'].mean(),\n",
    "    'Time Diff between first and last (Mins)': (transactions_df['timeStamp'].iloc[-1] - transactions_df['timeStamp'].iloc[0]).total_seconds() / 60,\n",
    "    'Unique Received From Addresses': received_transactions['from'].nunique(),\n",
    "    'min value received': received_transactions['value'].min() / 1e18,\n",
    "    'max value received ': received_transactions['value'].max() / 1e18,\n",
    "    'avg val received': received_transactions['value'].mean() / 1e18,\n",
    "    'min val sent': sent_transactions['value'].min() / 1e18,\n",
    "    'avg val sent': sent_transactions['value'].mean() / 1e18,\n",
    "    'total transactions (including tnx to create contract': transactions_df.shape[0],\n",
    "    'total ether received': received_transactions['value'].sum() / 1e18,\n",
    "    'total ether balance': transactions_df['value'].sum() / 1e18  # Simplistic balance calculation\n",
    "}"
   ]
  },
  {
   "cell_type": "code",
   "execution_count": 10,
   "metadata": {},
   "outputs": [],
   "source": [
    "metrics_df = pd.DataFrame([metrics])"
   ]
  },
  {
   "cell_type": "code",
   "execution_count": 11,
   "metadata": {},
   "outputs": [],
   "source": [
    "for c in metrics_df.columns:\n",
    "    if metrics_df[c].iloc[0] > 0:\n",
    "        metrics_df[c] = np.log(metrics_df[c] + 1)"
   ]
  },
  {
   "cell_type": "code",
   "execution_count": 12,
   "metadata": {},
   "outputs": [],
   "source": [
    "metrics_scaled = scaler.transform(metrics_df)"
   ]
  },
  {
   "cell_type": "code",
   "execution_count": 13,
   "metadata": {},
   "outputs": [],
   "source": [
    "metrics_scaled_tensor = tf.convert_to_tensor(metrics_scaled, dtype=tf.float32)"
   ]
  },
  {
   "cell_type": "code",
   "execution_count": 14,
   "metadata": {},
   "outputs": [
    {
     "name": "stdout",
     "output_type": "stream",
     "text": [
      "\u001b[1m1/1\u001b[0m \u001b[32m━━━━━━━━━━━━━━━━━━━━\u001b[0m\u001b[37m\u001b[0m \u001b[1m0s\u001b[0m 18ms/step\n",
      "Prediction: 0.1674635112285614\n"
     ]
    }
   ],
   "source": [
    "# Make predictions\n",
    "prediction = model.predict(metrics_scaled_tensor)\n",
    "\n",
    "# Output the prediction\n",
    "print(f\"Prediction: {prediction[0][0]}\")"
   ]
  },
  {
   "cell_type": "code",
   "execution_count": 15,
   "metadata": {},
   "outputs": [],
   "source": [
    "model.output_names = ['output']\n",
    "model.build(input_shape=(None, X_train_full_tensor.shape[1]))"
   ]
  },
  {
   "cell_type": "code",
   "execution_count": 16,
   "metadata": {},
   "outputs": [],
   "source": [
    "# conversion based on the expected input shape\n",
    "input_spec = [tf.TensorSpec([None, X_train_full_tensor.shape[1]], tf.float32, name='input')]"
   ]
  },
  {
   "cell_type": "code",
   "execution_count": 17,
   "metadata": {},
   "outputs": [],
   "source": [
    "import onnxmltools\n",
    "from giza_actions.model import GizaModel\n",
    "from giza_actions.task import task\n",
    "from giza_actions.action import Action, action\n",
    "import tf2onnx"
   ]
  },
  {
   "cell_type": "code",
   "execution_count": 18,
   "metadata": {},
   "outputs": [
    {
     "name": "stderr",
     "output_type": "stream",
     "text": [
      "2024-06-07 20:58:53.225500: I external/local_xla/xla/stream_executor/cuda/cuda_executor.cc:984] could not open file to read NUMA node: /sys/bus/pci/devices/0000:02:00.0/numa_node\n",
      "Your kernel may have been built without NUMA support.\n",
      "2024-06-07 20:58:53.225627: I tensorflow/core/grappler/devices.cc:66] Number of eligible GPUs (core count >= 8, compute capability >= 0.0): 1\n",
      "2024-06-07 20:58:53.225955: I tensorflow/core/grappler/clusters/single_machine.cc:361] Starting new session\n",
      "2024-06-07 20:58:53.227379: I external/local_xla/xla/stream_executor/cuda/cuda_executor.cc:984] could not open file to read NUMA node: /sys/bus/pci/devices/0000:02:00.0/numa_node\n",
      "Your kernel may have been built without NUMA support.\n",
      "2024-06-07 20:58:53.227402: W tensorflow/core/common_runtime/gpu/gpu_device.cc:2251] Cannot dlopen some GPU libraries. Please make sure the missing libraries mentioned above are installed properly if you would like to use GPU. Follow the guide at https://www.tensorflow.org/install/gpu for how to download and setup the required libraries for your platform.\n",
      "Skipping registering GPU devices...\n",
      "2024-06-07 20:58:53.484417: I external/local_xla/xla/stream_executor/cuda/cuda_executor.cc:984] could not open file to read NUMA node: /sys/bus/pci/devices/0000:02:00.0/numa_node\n",
      "Your kernel may have been built without NUMA support.\n",
      "2024-06-07 20:58:53.484481: I tensorflow/core/grappler/devices.cc:66] Number of eligible GPUs (core count >= 8, compute capability >= 0.0): 1\n",
      "2024-06-07 20:58:53.484874: I tensorflow/core/grappler/clusters/single_machine.cc:361] Starting new session\n",
      "2024-06-07 20:58:53.486590: I external/local_xla/xla/stream_executor/cuda/cuda_executor.cc:984] could not open file to read NUMA node: /sys/bus/pci/devices/0000:02:00.0/numa_node\n",
      "Your kernel may have been built without NUMA support.\n",
      "2024-06-07 20:58:53.486629: W tensorflow/core/common_runtime/gpu/gpu_device.cc:2251] Cannot dlopen some GPU libraries. Please make sure the missing libraries mentioned above are installed properly if you would like to use GPU. Follow the guide at https://www.tensorflow.org/install/gpu for how to download and setup the required libraries for your platform.\n",
      "Skipping registering GPU devices...\n"
     ]
    }
   ],
   "source": [
    "# Convert the model to ONNX format\n",
    "onnx_model, _ = tf2onnx.convert.from_keras(model=model, input_signature=input_spec, opset=13)"
   ]
  },
  {
   "cell_type": "code",
   "execution_count": 19,
   "metadata": {},
   "outputs": [],
   "source": [
    "onnx_file_path = './fraud-model-100-eps.onnx'\n",
    "with open(onnx_file_path, \"wb\") as f:\n",
    "    f.write(onnx_model.SerializeToString())"
   ]
  },
  {
   "cell_type": "code",
   "execution_count": 20,
   "metadata": {},
   "outputs": [],
   "source": [
    "@task(name='Prediction with ONNX 1')\n",
    "def prediction(eval_numpy):\n",
    "    model = GizaModel(model_path=\"./fraud-model-100-eps.onnx\")\n",
    "    result = model.predict(\n",
    "        input_feed={\"input\": eval_numpy}, verifiable=False\n",
    "    )\n",
    "    return result"
   ]
  },
  {
   "cell_type": "code",
   "execution_count": 21,
   "metadata": {},
   "outputs": [],
   "source": [
    "@action(name='Execution: Prediction with ONNX 4', log_prints=True)\n",
    "def execution():\n",
    "    eval_numpy = metrics_scaled_tensor.numpy()\n",
    "    unverifiable_predictions = prediction(eval_numpy)\n",
    "    return unverifiable_predictions"
   ]
  },
  {
   "cell_type": "code",
   "execution_count": 22,
   "metadata": {},
   "outputs": [
    {
     "data": {
      "text/html": [
       "<pre style=\"white-space:pre;overflow-x:auto;line-height:normal;font-family:Menlo,'DejaVu Sans Mono',consolas,'Courier New',monospace\">21:01:22.088 | <span style=\"color: #008080; text-decoration-color: #008080\">INFO</span>    | prefect.engine - Created flow run<span style=\"color: #800080; text-decoration-color: #800080\"> 'economic-oriole'</span> for flow<span style=\"color: #800080; text-decoration-color: #800080; font-weight: bold\"> 'Execution: Prediction with ONNX 4'</span>\n",
       "</pre>\n"
      ],
      "text/plain": [
       "21:01:22.088 | \u001b[36mINFO\u001b[0m    | prefect.engine - Created flow run\u001b[35m 'economic-oriole'\u001b[0m for flow\u001b[1;35m 'Execution: Prediction with ONNX 4'\u001b[0m\n"
      ]
     },
     "metadata": {},
     "output_type": "display_data"
    },
    {
     "data": {
      "text/html": [
       "<pre style=\"white-space:pre;overflow-x:auto;line-height:normal;font-family:Menlo,'DejaVu Sans Mono',consolas,'Courier New',monospace\">21:01:22.284 | <span style=\"color: #008080; text-decoration-color: #008080\">INFO</span>    | Flow run<span style=\"color: #800080; text-decoration-color: #800080\"> 'economic-oriole'</span> - Created task run 'Prediction with ONNX 1-0' for task 'Prediction with ONNX 1'\n",
       "</pre>\n"
      ],
      "text/plain": [
       "21:01:22.284 | \u001b[36mINFO\u001b[0m    | Flow run\u001b[35m 'economic-oriole'\u001b[0m - Created task run 'Prediction with ONNX 1-0' for task 'Prediction with ONNX 1'\n"
      ]
     },
     "metadata": {},
     "output_type": "display_data"
    },
    {
     "data": {
      "text/html": [
       "<pre style=\"white-space:pre;overflow-x:auto;line-height:normal;font-family:Menlo,'DejaVu Sans Mono',consolas,'Courier New',monospace\">21:01:22.290 | <span style=\"color: #008080; text-decoration-color: #008080\">INFO</span>    | Flow run<span style=\"color: #800080; text-decoration-color: #800080\"> 'economic-oriole'</span> - Executing 'Prediction with ONNX 1-0' immediately...\n",
       "</pre>\n"
      ],
      "text/plain": [
       "21:01:22.290 | \u001b[36mINFO\u001b[0m    | Flow run\u001b[35m 'economic-oriole'\u001b[0m - Executing 'Prediction with ONNX 1-0' immediately...\n"
      ]
     },
     "metadata": {},
     "output_type": "display_data"
    },
    {
     "data": {
      "text/html": [
       "<pre style=\"white-space:pre;overflow-x:auto;line-height:normal;font-family:Menlo,'DejaVu Sans Mono',consolas,'Courier New',monospace\">21:01:22.872 | <span style=\"color: #008080; text-decoration-color: #008080\">INFO</span>    | Task run 'Prediction with ONNX 1-0' - Finished in state <span style=\"color: #008000; text-decoration-color: #008000\">Completed</span>()\n",
       "</pre>\n"
      ],
      "text/plain": [
       "21:01:22.872 | \u001b[36mINFO\u001b[0m    | Task run 'Prediction with ONNX 1-0' - Finished in state \u001b[32mCompleted\u001b[0m()\n"
      ]
     },
     "metadata": {},
     "output_type": "display_data"
    },
    {
     "data": {
      "text/html": [
       "<pre style=\"white-space:pre;overflow-x:auto;line-height:normal;font-family:Menlo,'DejaVu Sans Mono',consolas,'Courier New',monospace\">21:01:22.934 | <span style=\"color: #008080; text-decoration-color: #008080\">INFO</span>    | Flow run<span style=\"color: #800080; text-decoration-color: #800080\"> 'economic-oriole'</span> - Finished in state <span style=\"color: #008000; text-decoration-color: #008000\">Completed</span>()\n",
       "</pre>\n"
      ],
      "text/plain": [
       "21:01:22.934 | \u001b[36mINFO\u001b[0m    | Flow run\u001b[35m 'economic-oriole'\u001b[0m - Finished in state \u001b[32mCompleted\u001b[0m()\n"
      ]
     },
     "metadata": {},
     "output_type": "display_data"
    }
   ],
   "source": [
    "unverifiable_predictions = execution()"
   ]
  },
  {
   "cell_type": "code",
   "execution_count": 23,
   "metadata": {},
   "outputs": [
    {
     "name": "stdout",
     "output_type": "stream",
     "text": [
      "unVerifiablePrediction: 0.16746345162391663\n"
     ]
    }
   ],
   "source": [
    "print(f\"unVerifiablePrediction: {unverifiable_predictions[0][0]}\")"
   ]
  },
  {
   "cell_type": "code",
   "execution_count": null,
   "metadata": {},
   "outputs": [],
   "source": []
  }
 ],
 "metadata": {
  "kernelspec": {
   "display_name": "Python 3",
   "language": "python",
   "name": "python3"
  },
  "language_info": {
   "codemirror_mode": {
    "name": "ipython",
    "version": 3
   },
   "file_extension": ".py",
   "mimetype": "text/x-python",
   "name": "python",
   "nbconvert_exporter": "python",
   "pygments_lexer": "ipython3",
   "version": "3.11.5"
  }
 },
 "nbformat": 4,
 "nbformat_minor": 2
}
