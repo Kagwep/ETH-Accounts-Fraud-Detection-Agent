{
 "cells": [
  {
   "cell_type": "code",
   "execution_count": 12,
   "metadata": {},
   "outputs": [],
   "source": [
    "import numpy as np\n",
    "import pandas as pd\n",
    "import tensorflow as tf\n",
    "from sklearn.model_selection import train_test_split\n",
    "from sklearn.preprocessing import MinMaxScaler\n",
    "from sklearn.metrics import f1_score, roc_auc_score, recall_score, accuracy_score, precision_score\n",
    "import matplotlib\n",
    "import matplotlib.pyplot as plt\n",
    "import seaborn as sns\n",
    "matplotlib.rcParams['figure.figsize'] = (11.0, 8.0)\n",
    "\n",
    "import warnings\n",
    "warnings.filterwarnings('ignore')\n"
   ]
  },
  {
   "cell_type": "code",
   "execution_count": 13,
   "metadata": {},
   "outputs": [],
   "source": [
    "#Importing Data\n",
    "df = pd.read_csv('./address_data_combined.csv')\n",
    "X = df.drop(columns=['Address', 'FLAG'])\n",
    "y = df['FLAG']\n",
    "X_train_full, X_test, y_train_full, y_test = train_test_split(X, y, test_size=0.3, random_state=42, stratify=y)\n",
    "\n",
    "\n",
    "columns = ['Avg min between sent tnx', 'Avg min between received tnx',\n",
    "       'Time Diff between first and last (Mins)',\n",
    "       'Unique Received From Addresses', 'min value received',\n",
    "       'max value received ', 'avg val received', 'min val sent',\n",
    "       'avg val sent', 'total transactions (including tnx to create contract',\n",
    "       'total ether received', 'total ether balance']\n",
    "    \n",
    "scaler = MinMaxScaler()"
   ]
  },
  {
   "cell_type": "code",
   "execution_count": 14,
   "metadata": {},
   "outputs": [
    {
     "data": {
      "text/plain": [
       "array([[False, False, False, ..., False, False, False],\n",
       "       [False, False, False, ..., False, False, False],\n",
       "       [False, False, False, ..., False, False, False],\n",
       "       ...,\n",
       "       [False, False, False, ..., False, False, False],\n",
       "       [False, False, False, ..., False, False, False],\n",
       "       [False, False, False, ..., False, False, False]])"
      ]
     },
     "execution_count": 14,
     "metadata": {},
     "output_type": "execute_result"
    }
   ],
   "source": [
    "# Log for Skewed Data\n",
    "for c in columns:\n",
    "    X_train_full[c] = X_train_full[c].apply(lambda x: np.log(x) if x > 0 else 0)\n",
    "    X_test[c] = X_test[c].apply(lambda x: np.log(x) if x > 0 else 0)\n",
    "\n",
    "# Scaling\n",
    "X_train_full = scaler.fit_transform(X_train_full)\n",
    "X_test = scaler.transform(X_test)\n",
    "\n",
    "np.isnan(X_train_full)"
   ]
  },
  {
   "cell_type": "code",
   "execution_count": 15,
   "metadata": {},
   "outputs": [],
   "source": [
    "X_train_full_tensor = tf.convert_to_tensor(X_train_full, dtype=tf.float32)\n",
    "X_test_tensor = tf.convert_to_tensor(X_test, dtype=tf.float32)\n",
    "y_train_full_tensor = tf.convert_to_tensor(y_train_full.values, dtype=tf.float32)\n",
    "y_test_tensor = tf.convert_to_tensor(y_test.values, dtype=tf.float32)"
   ]
  },
  {
   "cell_type": "code",
   "execution_count": 16,
   "metadata": {},
   "outputs": [],
   "source": [
    "# TensorFlow setup for logistic regression\n",
    "def build_logistic_regression_model(input_dim):\n",
    "    model = tf.keras.Sequential([\n",
    "        tf.keras.layers.InputLayer(input_shape=(input_dim,)),\n",
    "        tf.keras.layers.Dense(1, activation='sigmoid')\n",
    "    ])\n",
    "    \n",
    "    model.compile(optimizer=tf.keras.optimizers.Adam(learning_rate=0.001),\n",
    "                  loss='binary_crossentropy',\n",
    "                  metrics=['accuracy'])\n",
    "    return model\n",
    "\n",
    "# Build the model\n",
    "model = build_logistic_regression_model(X_train_full_tensor.shape[1])"
   ]
  },
  {
   "cell_type": "code",
   "execution_count": 17,
   "metadata": {},
   "outputs": [
    {
     "name": "stdout",
     "output_type": "stream",
     "text": [
      "Epoch 1/100\n",
      "248/248 - 1s - 4ms/step - accuracy: 0.5405 - loss: 0.6830 - val_accuracy: 0.5328 - val_loss: 0.6797\n",
      "Epoch 2/100\n",
      "248/248 - 0s - 2ms/step - accuracy: 0.6012 - loss: 0.6670 - val_accuracy: 0.6670 - val_loss: 0.6681\n",
      "Epoch 3/100\n",
      "248/248 - 0s - 2ms/step - accuracy: 0.6826 - loss: 0.6571 - val_accuracy: 0.6615 - val_loss: 0.6576\n",
      "Epoch 4/100\n",
      "248/248 - 1s - 2ms/step - accuracy: 0.6703 - loss: 0.6474 - val_accuracy: 0.6695 - val_loss: 0.6495\n",
      "Epoch 5/100\n",
      "248/248 - 0s - 1ms/step - accuracy: 0.6755 - loss: 0.6386 - val_accuracy: 0.6680 - val_loss: 0.6396\n",
      "Epoch 6/100\n",
      "248/248 - 0s - 2ms/step - accuracy: 0.6798 - loss: 0.6300 - val_accuracy: 0.6665 - val_loss: 0.6292\n",
      "Epoch 7/100\n",
      "248/248 - 0s - 2ms/step - accuracy: 0.6893 - loss: 0.6216 - val_accuracy: 0.6695 - val_loss: 0.6212\n",
      "Epoch 8/100\n",
      "248/248 - 0s - 2ms/step - accuracy: 0.6948 - loss: 0.6139 - val_accuracy: 0.6791 - val_loss: 0.6126\n",
      "Epoch 9/100\n",
      "248/248 - 0s - 2ms/step - accuracy: 0.7099 - loss: 0.6062 - val_accuracy: 0.6831 - val_loss: 0.6054\n",
      "Epoch 10/100\n",
      "248/248 - 0s - 1ms/step - accuracy: 0.7140 - loss: 0.5992 - val_accuracy: 0.7104 - val_loss: 0.5965\n",
      "Epoch 11/100\n",
      "248/248 - 0s - 1ms/step - accuracy: 0.7274 - loss: 0.5922 - val_accuracy: 0.7215 - val_loss: 0.5891\n",
      "Epoch 12/100\n",
      "248/248 - 0s - 2ms/step - accuracy: 0.7387 - loss: 0.5858 - val_accuracy: 0.7250 - val_loss: 0.5825\n",
      "Epoch 13/100\n",
      "248/248 - 1s - 2ms/step - accuracy: 0.7374 - loss: 0.5793 - val_accuracy: 0.7457 - val_loss: 0.5749\n",
      "Epoch 14/100\n",
      "248/248 - 0s - 2ms/step - accuracy: 0.7496 - loss: 0.5733 - val_accuracy: 0.7538 - val_loss: 0.5683\n",
      "Epoch 15/100\n",
      "248/248 - 1s - 2ms/step - accuracy: 0.7589 - loss: 0.5672 - val_accuracy: 0.7603 - val_loss: 0.5618\n",
      "Epoch 16/100\n",
      "248/248 - 0s - 2ms/step - accuracy: 0.7663 - loss: 0.5616 - val_accuracy: 0.7634 - val_loss: 0.5559\n",
      "Epoch 17/100\n",
      "248/248 - 0s - 2ms/step - accuracy: 0.7691 - loss: 0.5561 - val_accuracy: 0.7775 - val_loss: 0.5496\n",
      "Epoch 18/100\n",
      "248/248 - 0s - 2ms/step - accuracy: 0.7759 - loss: 0.5509 - val_accuracy: 0.7775 - val_loss: 0.5441\n",
      "Epoch 19/100\n",
      "248/248 - 0s - 2ms/step - accuracy: 0.7796 - loss: 0.5460 - val_accuracy: 0.7825 - val_loss: 0.5385\n",
      "Epoch 20/100\n",
      "248/248 - 0s - 1ms/step - accuracy: 0.7829 - loss: 0.5412 - val_accuracy: 0.7881 - val_loss: 0.5332\n",
      "Epoch 21/100\n",
      "248/248 - 0s - 2ms/step - accuracy: 0.7882 - loss: 0.5365 - val_accuracy: 0.7861 - val_loss: 0.5287\n",
      "Epoch 22/100\n",
      "248/248 - 0s - 2ms/step - accuracy: 0.7874 - loss: 0.5321 - val_accuracy: 0.8037 - val_loss: 0.5231\n",
      "Epoch 23/100\n",
      "248/248 - 0s - 2ms/step - accuracy: 0.7907 - loss: 0.5279 - val_accuracy: 0.7962 - val_loss: 0.5187\n",
      "Epoch 24/100\n",
      "248/248 - 0s - 2ms/step - accuracy: 0.7927 - loss: 0.5236 - val_accuracy: 0.7977 - val_loss: 0.5143\n",
      "Epoch 25/100\n",
      "248/248 - 0s - 1ms/step - accuracy: 0.7942 - loss: 0.5198 - val_accuracy: 0.8022 - val_loss: 0.5099\n",
      "Epoch 26/100\n",
      "248/248 - 0s - 2ms/step - accuracy: 0.7989 - loss: 0.5161 - val_accuracy: 0.8032 - val_loss: 0.5059\n",
      "Epoch 27/100\n",
      "248/248 - 0s - 2ms/step - accuracy: 0.7972 - loss: 0.5124 - val_accuracy: 0.8143 - val_loss: 0.5013\n",
      "Epoch 28/100\n",
      "248/248 - 0s - 2ms/step - accuracy: 0.7999 - loss: 0.5090 - val_accuracy: 0.8133 - val_loss: 0.4975\n",
      "Epoch 29/100\n",
      "248/248 - 0s - 2ms/step - accuracy: 0.8013 - loss: 0.5056 - val_accuracy: 0.8083 - val_loss: 0.4941\n",
      "Epoch 30/100\n",
      "248/248 - 0s - 1ms/step - accuracy: 0.8028 - loss: 0.5024 - val_accuracy: 0.8158 - val_loss: 0.4901\n",
      "Epoch 31/100\n",
      "248/248 - 0s - 2ms/step - accuracy: 0.8034 - loss: 0.4992 - val_accuracy: 0.8174 - val_loss: 0.4867\n",
      "Epoch 32/100\n",
      "248/248 - 0s - 2ms/step - accuracy: 0.8046 - loss: 0.4963 - val_accuracy: 0.8153 - val_loss: 0.4837\n",
      "Epoch 33/100\n",
      "248/248 - 0s - 2ms/step - accuracy: 0.8047 - loss: 0.4931 - val_accuracy: 0.8123 - val_loss: 0.4808\n",
      "Epoch 34/100\n",
      "248/248 - 0s - 2ms/step - accuracy: 0.8046 - loss: 0.4905 - val_accuracy: 0.8224 - val_loss: 0.4769\n",
      "Epoch 35/100\n",
      "248/248 - 0s - 1ms/step - accuracy: 0.8058 - loss: 0.4878 - val_accuracy: 0.8264 - val_loss: 0.4737\n",
      "Epoch 36/100\n",
      "248/248 - 0s - 2ms/step - accuracy: 0.8075 - loss: 0.4852 - val_accuracy: 0.8239 - val_loss: 0.4710\n",
      "Epoch 37/100\n",
      "248/248 - 0s - 2ms/step - accuracy: 0.8076 - loss: 0.4827 - val_accuracy: 0.8330 - val_loss: 0.4680\n",
      "Epoch 38/100\n",
      "248/248 - 0s - 2ms/step - accuracy: 0.8081 - loss: 0.4802 - val_accuracy: 0.8300 - val_loss: 0.4654\n",
      "Epoch 39/100\n",
      "248/248 - 0s - 2ms/step - accuracy: 0.8110 - loss: 0.4780 - val_accuracy: 0.8330 - val_loss: 0.4626\n",
      "Epoch 40/100\n",
      "248/248 - 0s - 2ms/step - accuracy: 0.8082 - loss: 0.4757 - val_accuracy: 0.8285 - val_loss: 0.4605\n",
      "Epoch 41/100\n",
      "248/248 - 0s - 2ms/step - accuracy: 0.8091 - loss: 0.4735 - val_accuracy: 0.8310 - val_loss: 0.4579\n",
      "Epoch 42/100\n",
      "248/248 - 0s - 2ms/step - accuracy: 0.8106 - loss: 0.4714 - val_accuracy: 0.8340 - val_loss: 0.4552\n",
      "Epoch 43/100\n",
      "248/248 - 0s - 2ms/step - accuracy: 0.8105 - loss: 0.4695 - val_accuracy: 0.8340 - val_loss: 0.4529\n",
      "Epoch 44/100\n",
      "248/248 - 0s - 2ms/step - accuracy: 0.8097 - loss: 0.4674 - val_accuracy: 0.8345 - val_loss: 0.4505\n",
      "Epoch 45/100\n",
      "248/248 - 0s - 2ms/step - accuracy: 0.8128 - loss: 0.4656 - val_accuracy: 0.8345 - val_loss: 0.4484\n",
      "Epoch 46/100\n",
      "248/248 - 0s - 1ms/step - accuracy: 0.8115 - loss: 0.4636 - val_accuracy: 0.8360 - val_loss: 0.4462\n",
      "Epoch 47/100\n",
      "248/248 - 0s - 2ms/step - accuracy: 0.8115 - loss: 0.4619 - val_accuracy: 0.8340 - val_loss: 0.4446\n",
      "Epoch 48/100\n",
      "248/248 - 0s - 2ms/step - accuracy: 0.8121 - loss: 0.4601 - val_accuracy: 0.8335 - val_loss: 0.4425\n",
      "Epoch 49/100\n",
      "248/248 - 0s - 2ms/step - accuracy: 0.8116 - loss: 0.4584 - val_accuracy: 0.8325 - val_loss: 0.4411\n",
      "Epoch 50/100\n",
      "248/248 - 0s - 2ms/step - accuracy: 0.8134 - loss: 0.4569 - val_accuracy: 0.8355 - val_loss: 0.4385\n",
      "Epoch 51/100\n",
      "248/248 - 0s - 2ms/step - accuracy: 0.8106 - loss: 0.4553 - val_accuracy: 0.8365 - val_loss: 0.4368\n",
      "Epoch 52/100\n",
      "248/248 - 1s - 2ms/step - accuracy: 0.8121 - loss: 0.4537 - val_accuracy: 0.8360 - val_loss: 0.4351\n",
      "Epoch 53/100\n",
      "248/248 - 0s - 2ms/step - accuracy: 0.8128 - loss: 0.4523 - val_accuracy: 0.8370 - val_loss: 0.4332\n",
      "Epoch 54/100\n",
      "248/248 - 0s - 2ms/step - accuracy: 0.8125 - loss: 0.4507 - val_accuracy: 0.8345 - val_loss: 0.4323\n",
      "Epoch 55/100\n",
      "248/248 - 1s - 2ms/step - accuracy: 0.8129 - loss: 0.4495 - val_accuracy: 0.8370 - val_loss: 0.4302\n",
      "Epoch 56/100\n",
      "248/248 - 0s - 1ms/step - accuracy: 0.8130 - loss: 0.4482 - val_accuracy: 0.8365 - val_loss: 0.4284\n",
      "Epoch 57/100\n",
      "248/248 - 0s - 2ms/step - accuracy: 0.8143 - loss: 0.4468 - val_accuracy: 0.8391 - val_loss: 0.4268\n",
      "Epoch 58/100\n",
      "248/248 - 0s - 2ms/step - accuracy: 0.8137 - loss: 0.4455 - val_accuracy: 0.8385 - val_loss: 0.4254\n",
      "Epoch 59/100\n",
      "248/248 - 0s - 2ms/step - accuracy: 0.8137 - loss: 0.4444 - val_accuracy: 0.8375 - val_loss: 0.4248\n",
      "Epoch 60/100\n",
      "248/248 - 0s - 1ms/step - accuracy: 0.8162 - loss: 0.4432 - val_accuracy: 0.8401 - val_loss: 0.4226\n",
      "Epoch 61/100\n",
      "248/248 - 0s - 2ms/step - accuracy: 0.8143 - loss: 0.4423 - val_accuracy: 0.8370 - val_loss: 0.4214\n",
      "Epoch 62/100\n",
      "248/248 - 0s - 2ms/step - accuracy: 0.8154 - loss: 0.4409 - val_accuracy: 0.8406 - val_loss: 0.4200\n",
      "Epoch 63/100\n",
      "248/248 - 0s - 2ms/step - accuracy: 0.8134 - loss: 0.4398 - val_accuracy: 0.8380 - val_loss: 0.4192\n",
      "Epoch 64/100\n",
      "248/248 - 0s - 2ms/step - accuracy: 0.8160 - loss: 0.4390 - val_accuracy: 0.8370 - val_loss: 0.4177\n",
      "Epoch 65/100\n",
      "248/248 - 0s - 2ms/step - accuracy: 0.8152 - loss: 0.4380 - val_accuracy: 0.8370 - val_loss: 0.4166\n",
      "Epoch 66/100\n",
      "248/248 - 0s - 1ms/step - accuracy: 0.8149 - loss: 0.4369 - val_accuracy: 0.8385 - val_loss: 0.4152\n",
      "Epoch 67/100\n",
      "248/248 - 0s - 2ms/step - accuracy: 0.8157 - loss: 0.4362 - val_accuracy: 0.8380 - val_loss: 0.4141\n",
      "Epoch 68/100\n",
      "248/248 - 0s - 2ms/step - accuracy: 0.8155 - loss: 0.4349 - val_accuracy: 0.8380 - val_loss: 0.4132\n",
      "Epoch 69/100\n",
      "248/248 - 0s - 2ms/step - accuracy: 0.8160 - loss: 0.4341 - val_accuracy: 0.8391 - val_loss: 0.4117\n",
      "Epoch 70/100\n",
      "248/248 - 0s - 2ms/step - accuracy: 0.8168 - loss: 0.4331 - val_accuracy: 0.8401 - val_loss: 0.4108\n",
      "Epoch 71/100\n",
      "248/248 - 0s - 1ms/step - accuracy: 0.8155 - loss: 0.4323 - val_accuracy: 0.8380 - val_loss: 0.4097\n",
      "Epoch 72/100\n",
      "248/248 - 0s - 1ms/step - accuracy: 0.8162 - loss: 0.4315 - val_accuracy: 0.8411 - val_loss: 0.4086\n",
      "Epoch 73/100\n",
      "248/248 - 0s - 2ms/step - accuracy: 0.8162 - loss: 0.4308 - val_accuracy: 0.8385 - val_loss: 0.4082\n",
      "Epoch 74/100\n",
      "248/248 - 0s - 2ms/step - accuracy: 0.8176 - loss: 0.4298 - val_accuracy: 0.8411 - val_loss: 0.4067\n",
      "Epoch 75/100\n",
      "248/248 - 0s - 2ms/step - accuracy: 0.8179 - loss: 0.4292 - val_accuracy: 0.8380 - val_loss: 0.4058\n",
      "Epoch 76/100\n",
      "248/248 - 0s - 1ms/step - accuracy: 0.8172 - loss: 0.4286 - val_accuracy: 0.8391 - val_loss: 0.4051\n",
      "Epoch 77/100\n",
      "248/248 - 0s - 2ms/step - accuracy: 0.8174 - loss: 0.4277 - val_accuracy: 0.8391 - val_loss: 0.4041\n",
      "Epoch 78/100\n",
      "248/248 - 0s - 2ms/step - accuracy: 0.8173 - loss: 0.4270 - val_accuracy: 0.8396 - val_loss: 0.4032\n",
      "Epoch 79/100\n",
      "248/248 - 0s - 2ms/step - accuracy: 0.8171 - loss: 0.4263 - val_accuracy: 0.8391 - val_loss: 0.4024\n",
      "Epoch 80/100\n",
      "248/248 - 0s - 2ms/step - accuracy: 0.8169 - loss: 0.4254 - val_accuracy: 0.8411 - val_loss: 0.4015\n",
      "Epoch 81/100\n",
      "248/248 - 0s - 2ms/step - accuracy: 0.8174 - loss: 0.4248 - val_accuracy: 0.8396 - val_loss: 0.4009\n",
      "Epoch 82/100\n",
      "248/248 - 0s - 2ms/step - accuracy: 0.8181 - loss: 0.4243 - val_accuracy: 0.8396 - val_loss: 0.4001\n",
      "Epoch 83/100\n",
      "248/248 - 0s - 2ms/step - accuracy: 0.8176 - loss: 0.4238 - val_accuracy: 0.8406 - val_loss: 0.3993\n",
      "Epoch 84/100\n",
      "248/248 - 0s - 2ms/step - accuracy: 0.8179 - loss: 0.4230 - val_accuracy: 0.8401 - val_loss: 0.3985\n",
      "Epoch 85/100\n",
      "248/248 - 0s - 2ms/step - accuracy: 0.8182 - loss: 0.4225 - val_accuracy: 0.8401 - val_loss: 0.3977\n",
      "Epoch 86/100\n",
      "248/248 - 0s - 2ms/step - accuracy: 0.8169 - loss: 0.4219 - val_accuracy: 0.8406 - val_loss: 0.3975\n",
      "Epoch 87/100\n",
      "248/248 - 0s - 1ms/step - accuracy: 0.8184 - loss: 0.4213 - val_accuracy: 0.8411 - val_loss: 0.3963\n",
      "Epoch 88/100\n",
      "248/248 - 0s - 2ms/step - accuracy: 0.8186 - loss: 0.4206 - val_accuracy: 0.8406 - val_loss: 0.3958\n",
      "Epoch 89/100\n",
      "248/248 - 0s - 2ms/step - accuracy: 0.8197 - loss: 0.4202 - val_accuracy: 0.8411 - val_loss: 0.3949\n",
      "Epoch 90/100\n",
      "248/248 - 0s - 2ms/step - accuracy: 0.8181 - loss: 0.4195 - val_accuracy: 0.8411 - val_loss: 0.3943\n",
      "Epoch 91/100\n",
      "248/248 - 0s - 2ms/step - accuracy: 0.8196 - loss: 0.4193 - val_accuracy: 0.8411 - val_loss: 0.3937\n",
      "Epoch 92/100\n",
      "248/248 - 0s - 1ms/step - accuracy: 0.8186 - loss: 0.4186 - val_accuracy: 0.8406 - val_loss: 0.3934\n",
      "Epoch 93/100\n",
      "248/248 - 0s - 1ms/step - accuracy: 0.8196 - loss: 0.4181 - val_accuracy: 0.8411 - val_loss: 0.3924\n",
      "Epoch 94/100\n",
      "248/248 - 1s - 3ms/step - accuracy: 0.8193 - loss: 0.4176 - val_accuracy: 0.8406 - val_loss: 0.3917\n",
      "Epoch 95/100\n",
      "248/248 - 0s - 2ms/step - accuracy: 0.8196 - loss: 0.4171 - val_accuracy: 0.8416 - val_loss: 0.3912\n",
      "Epoch 96/100\n",
      "248/248 - 0s - 2ms/step - accuracy: 0.8197 - loss: 0.4167 - val_accuracy: 0.8426 - val_loss: 0.3906\n",
      "Epoch 97/100\n",
      "248/248 - 0s - 1ms/step - accuracy: 0.8208 - loss: 0.4161 - val_accuracy: 0.8421 - val_loss: 0.3901\n",
      "Epoch 98/100\n",
      "248/248 - 0s - 1ms/step - accuracy: 0.8200 - loss: 0.4158 - val_accuracy: 0.8421 - val_loss: 0.3895\n",
      "Epoch 99/100\n",
      "248/248 - 0s - 2ms/step - accuracy: 0.8201 - loss: 0.4154 - val_accuracy: 0.8406 - val_loss: 0.3889\n",
      "Epoch 100/100\n",
      "248/248 - 0s - 2ms/step - accuracy: 0.8200 - loss: 0.4150 - val_accuracy: 0.8406 - val_loss: 0.3885\n"
     ]
    }
   ],
   "source": [
    "# Train the model\n",
    "history = model.fit(X_train_full_tensor, y_train_full_tensor, validation_split=0.2, epochs=100, batch_size=32, verbose=2)"
   ]
  },
  {
   "cell_type": "code",
   "execution_count": 18,
   "metadata": {},
   "outputs": [
    {
     "name": "stdout",
     "output_type": "stream",
     "text": [
      "\u001b[1m133/133\u001b[0m \u001b[32m━━━━━━━━━━━━━━━━━━━━\u001b[0m\u001b[37m\u001b[0m \u001b[1m0s\u001b[0m 1ms/step - accuracy: 0.8230 - loss: 0.4221\n",
      "Test Loss: 0.41279780864715576, Test Accuracy: 0.8262302875518799\n",
      "\u001b[1m133/133\u001b[0m \u001b[32m━━━━━━━━━━━━━━━━━━━━\u001b[0m\u001b[37m\u001b[0m \u001b[1m0s\u001b[0m 1ms/step\n"
     ]
    }
   ],
   "source": [
    "# Evaluate the model\n",
    "loss, accuracy = model.evaluate(X_test_tensor, y_test_tensor)\n",
    "print(f\"Test Loss: {loss}, Test Accuracy: {accuracy}\")\n",
    "\n",
    "# Predictions\n",
    "y_pred_prob = model.predict(X_test_tensor).flatten()\n",
    "y_pred = (y_pred_prob > 0.5).astype(int)\n",
    "\n",
    "# Calculate additional metrics\n",
    "f1 = f1_score(y_test_tensor, y_pred)\n",
    "roc_auc = roc_auc_score(y_test_tensor, y_pred_prob)\n",
    "recall = recall_score(y_test_tensor, y_pred)\n",
    "precision = precision_score(y_test_tensor, y_pred)\n",
    "accuracy = accuracy_score(y_test_tensor, y_pred)"
   ]
  },
  {
   "cell_type": "code",
   "execution_count": 19,
   "metadata": {},
   "outputs": [
    {
     "name": "stderr",
     "output_type": "stream",
     "text": [
      "WARNING:absl:You are saving your model as an HDF5 file via `model.save()` or `keras.saving.save_model(model)`. This file format is considered legacy. We recommend using instead the native Keras format, e.g. `model.save('my_model.keras')` or `keras.saving.save_model(model, 'my_model.keras')`. \n",
      "WARNING:absl:Compiled the loaded model, but the compiled metrics have yet to be built. `model.compile_metrics` will be empty until you train or evaluate the model.\n"
     ]
    },
    {
     "name": "stdout",
     "output_type": "stream",
     "text": [
      "F1 Score: 0.8052770448548813\n",
      "ROC AUC Score: 0.9044443715472387\n",
      "Recall: 0.7801635991820041\n",
      "Precision: 0.8320610687022901\n",
      "Accuracy: 0.8262302801977867\n"
     ]
    }
   ],
   "source": [
    "print(f\"F1 Score: {f1}\")\n",
    "print(f\"ROC AUC Score: {roc_auc}\")\n",
    "print(f\"Recall: {recall}\")\n",
    "print(f\"Precision: {precision}\")\n",
    "print(f\"Accuracy: {accuracy}\")\n",
    "\n",
    "# Save the model\n",
    "model.save('fraud-eth-account-detect-model.h5')\n",
    "\n",
    "# Load the model if needed\n",
    "loaded_model = tf.keras.models.load_model('fraud-eth-account-detect-model.h5')"
   ]
  },
  {
   "cell_type": "code",
   "execution_count": 21,
   "metadata": {},
   "outputs": [],
   "source": [
    "import pandas as pd\n",
    "\n",
    "# Load transactions from a CSV file\n",
    "transactions_df = pd.read_csv('./transactions.csv')\n",
    "\n",
    "# Convert the 'value' column to integers for calculation purposes\n",
    "# This assumes all values in the 'value' column are numeric and can be converted to integers\n",
    "transactions_df['value'] = transactions_df['value'].astype(int)\n",
    "\n",
    "# Convert timestamps from string to datetime\n",
    "transactions_df['timeStamp'] = pd.to_datetime(transactions_df['timeStamp'], unit='s')\n",
    "\n",
    "# Calculate time differences in minutes for subsequent transactions\n",
    "transactions_df.sort_values('timeStamp', inplace=True)\n",
    "transactions_df['time_diff'] = transactions_df['timeStamp'].diff().dt.total_seconds() / 60\n",
    "\n",
    "# Filter out sent and received transactions\n",
    "sent_transactions = transactions_df[transactions_df['from'].str.lower() == '0x9A23A93905a0CEf884ACB6F6488BC5D7b964EF73'.lower()]\n",
    "received_transactions = transactions_df[transactions_df['to'].str.lower() == '0x9A23A93905a0CEf884ACB6F6488BC5D7b964EF73'.lower()]\n",
    "\n",
    "# Calculate various metrics with conversions from Wei to Ether\n",
    "metrics = {\n",
    "    'Avg min between sent tnx': sent_transactions['time_diff'].mean(),\n",
    "    'Avg min between received tnx': received_transactions['time_diff'].mean(),\n",
    "    'Time Diff between first and last (Mins)': (transactions_df['timeStamp'].iloc[-1] - transactions_df['timeStamp'].iloc[0]).total_seconds() / 60,\n",
    "    'Unique Received From Addresses': received_transactions['from'].nunique(),\n",
    "    'min value received': received_transactions['value'].min() / 1e18,\n",
    "    'max value received ': received_transactions['value'].max() / 1e18,\n",
    "    'avg val received': received_transactions['value'].mean() / 1e18,\n",
    "    'min val sent': sent_transactions['value'].min() / 1e18,\n",
    "    'avg val sent': sent_transactions['value'].mean() / 1e18,\n",
    "    'total transactions (including tnx to create contract': transactions_df.shape[0],\n",
    "    'total ether received': received_transactions['value'].sum() / 1e18,\n",
    "    'total ether balance': transactions_df['value'].sum() / 1e18  # Simplistic balance calculation\n",
    "}"
   ]
  },
  {
   "cell_type": "code",
   "execution_count": 22,
   "metadata": {},
   "outputs": [],
   "source": [
    "metrics_df = pd.DataFrame([metrics])"
   ]
  },
  {
   "cell_type": "code",
   "execution_count": 23,
   "metadata": {},
   "outputs": [],
   "source": [
    "for c in metrics_df.columns:\n",
    "    if metrics_df[c].iloc[0] > 0:\n",
    "        metrics_df[c] = np.log(metrics_df[c] + 1)"
   ]
  },
  {
   "cell_type": "code",
   "execution_count": 24,
   "metadata": {},
   "outputs": [],
   "source": [
    "metrics_scaled = scaler.transform(metrics_df)"
   ]
  },
  {
   "cell_type": "code",
   "execution_count": 25,
   "metadata": {},
   "outputs": [],
   "source": [
    "metrics_scaled_tensor = tf.convert_to_tensor(metrics_scaled, dtype=tf.float32)"
   ]
  },
  {
   "cell_type": "code",
   "execution_count": 26,
   "metadata": {},
   "outputs": [
    {
     "name": "stdout",
     "output_type": "stream",
     "text": [
      "\u001b[1m1/1\u001b[0m \u001b[32m━━━━━━━━━━━━━━━━━━━━\u001b[0m\u001b[37m\u001b[0m \u001b[1m0s\u001b[0m 18ms/step\n",
      "Prediction: 0.1777561902999878\n"
     ]
    }
   ],
   "source": [
    "# Make predictions\n",
    "prediction = model.predict(metrics_scaled_tensor)\n",
    "\n",
    "# Output the prediction\n",
    "print(f\"Prediction: {prediction[0][0]}\")"
   ]
  },
  {
   "cell_type": "code",
   "execution_count": 27,
   "metadata": {},
   "outputs": [],
   "source": [
    "model.output_names = ['output']\n",
    "model.build(input_shape=(None, X_train_full_tensor.shape[1]))"
   ]
  },
  {
   "cell_type": "code",
   "execution_count": 28,
   "metadata": {},
   "outputs": [],
   "source": [
    "# conversion based on the expected input shape\n",
    "input_spec = [tf.TensorSpec([None, X_train_full_tensor.shape[1]], tf.float32, name='input')]"
   ]
  },
  {
   "cell_type": "code",
   "execution_count": 29,
   "metadata": {},
   "outputs": [],
   "source": [
    "import onnxmltools\n",
    "from giza_actions.model import GizaModel\n",
    "from giza_actions.task import task\n",
    "from giza_actions.action import Action, action\n",
    "import tf2onnx"
   ]
  },
  {
   "cell_type": "code",
   "execution_count": 30,
   "metadata": {},
   "outputs": [
    {
     "name": "stderr",
     "output_type": "stream",
     "text": [
      "2024-06-07 22:09:17.660424: I external/local_xla/xla/stream_executor/cuda/cuda_executor.cc:984] could not open file to read NUMA node: /sys/bus/pci/devices/0000:02:00.0/numa_node\n",
      "Your kernel may have been built without NUMA support.\n",
      "2024-06-07 22:09:17.660505: I tensorflow/core/grappler/devices.cc:66] Number of eligible GPUs (core count >= 8, compute capability >= 0.0): 1\n",
      "2024-06-07 22:09:17.660710: I tensorflow/core/grappler/clusters/single_machine.cc:361] Starting new session\n",
      "2024-06-07 22:09:17.661624: I external/local_xla/xla/stream_executor/cuda/cuda_executor.cc:984] could not open file to read NUMA node: /sys/bus/pci/devices/0000:02:00.0/numa_node\n",
      "Your kernel may have been built without NUMA support.\n",
      "2024-06-07 22:09:17.661655: W tensorflow/core/common_runtime/gpu/gpu_device.cc:2251] Cannot dlopen some GPU libraries. Please make sure the missing libraries mentioned above are installed properly if you would like to use GPU. Follow the guide at https://www.tensorflow.org/install/gpu for how to download and setup the required libraries for your platform.\n",
      "Skipping registering GPU devices...\n",
      "2024-06-07 22:09:17.825905: I external/local_xla/xla/stream_executor/cuda/cuda_executor.cc:984] could not open file to read NUMA node: /sys/bus/pci/devices/0000:02:00.0/numa_node\n",
      "Your kernel may have been built without NUMA support.\n",
      "2024-06-07 22:09:17.826025: I tensorflow/core/grappler/devices.cc:66] Number of eligible GPUs (core count >= 8, compute capability >= 0.0): 1\n",
      "2024-06-07 22:09:17.826473: I tensorflow/core/grappler/clusters/single_machine.cc:361] Starting new session\n",
      "2024-06-07 22:09:17.828551: I external/local_xla/xla/stream_executor/cuda/cuda_executor.cc:984] could not open file to read NUMA node: /sys/bus/pci/devices/0000:02:00.0/numa_node\n",
      "Your kernel may have been built without NUMA support.\n",
      "2024-06-07 22:09:17.828615: W tensorflow/core/common_runtime/gpu/gpu_device.cc:2251] Cannot dlopen some GPU libraries. Please make sure the missing libraries mentioned above are installed properly if you would like to use GPU. Follow the guide at https://www.tensorflow.org/install/gpu for how to download and setup the required libraries for your platform.\n",
      "Skipping registering GPU devices...\n"
     ]
    }
   ],
   "source": [
    "# Convert the model to ONNX format\n",
    "onnx_model, _ = tf2onnx.convert.from_keras(model=model, input_signature=input_spec, opset=13)"
   ]
  },
  {
   "cell_type": "code",
   "execution_count": 31,
   "metadata": {},
   "outputs": [],
   "source": [
    "onnx_file_path = './fraud-eth-account-detect-model-100-eps.onnx'\n",
    "with open(onnx_file_path, \"wb\") as f:\n",
    "    f.write(onnx_model.SerializeToString())"
   ]
  },
  {
   "cell_type": "code",
   "execution_count": 32,
   "metadata": {},
   "outputs": [],
   "source": [
    "@task(name='Prediction with ONNX 1')\n",
    "def prediction(eval_numpy):\n",
    "    model = GizaModel(model_path=\"./fraud-eth-account-detect-model-100-eps.onnx\")\n",
    "    result = model.predict(\n",
    "        input_feed={\"input\": eval_numpy}, verifiable=False\n",
    "    )\n",
    "    return result"
   ]
  },
  {
   "cell_type": "code",
   "execution_count": 33,
   "metadata": {},
   "outputs": [],
   "source": [
    "@action(name='Execution: Prediction with ONNX 1', log_prints=True)\n",
    "def execution():\n",
    "    eval_numpy = metrics_scaled_tensor.numpy()\n",
    "    unverifiable_predictions = prediction(eval_numpy)\n",
    "    return unverifiable_predictions"
   ]
  },
  {
   "cell_type": "code",
   "execution_count": 34,
   "metadata": {},
   "outputs": [
    {
     "data": {
      "text/html": [
       "<pre style=\"white-space:pre;overflow-x:auto;line-height:normal;font-family:Menlo,'DejaVu Sans Mono',consolas,'Courier New',monospace\">22:10:18.517 | <span style=\"color: #008080; text-decoration-color: #008080\">INFO</span>    | prefect.engine - Created flow run<span style=\"color: #800080; text-decoration-color: #800080\"> 'petite-frigatebird'</span> for flow<span style=\"color: #800080; text-decoration-color: #800080; font-weight: bold\"> 'Execution: Prediction with ONNX 1'</span>\n",
       "</pre>\n"
      ],
      "text/plain": [
       "22:10:18.517 | \u001b[36mINFO\u001b[0m    | prefect.engine - Created flow run\u001b[35m 'petite-frigatebird'\u001b[0m for flow\u001b[1;35m 'Execution: Prediction with ONNX 1'\u001b[0m\n"
      ]
     },
     "metadata": {},
     "output_type": "display_data"
    },
    {
     "data": {
      "text/html": [
       "<pre style=\"white-space:pre;overflow-x:auto;line-height:normal;font-family:Menlo,'DejaVu Sans Mono',consolas,'Courier New',monospace\">22:10:18.609 | <span style=\"color: #008080; text-decoration-color: #008080\">INFO</span>    | Flow run<span style=\"color: #800080; text-decoration-color: #800080\"> 'petite-frigatebird'</span> - Created task run 'Prediction with ONNX 1-0' for task 'Prediction with ONNX 1'\n",
       "</pre>\n"
      ],
      "text/plain": [
       "22:10:18.609 | \u001b[36mINFO\u001b[0m    | Flow run\u001b[35m 'petite-frigatebird'\u001b[0m - Created task run 'Prediction with ONNX 1-0' for task 'Prediction with ONNX 1'\n"
      ]
     },
     "metadata": {},
     "output_type": "display_data"
    },
    {
     "data": {
      "text/html": [
       "<pre style=\"white-space:pre;overflow-x:auto;line-height:normal;font-family:Menlo,'DejaVu Sans Mono',consolas,'Courier New',monospace\">22:10:18.613 | <span style=\"color: #008080; text-decoration-color: #008080\">INFO</span>    | Flow run<span style=\"color: #800080; text-decoration-color: #800080\"> 'petite-frigatebird'</span> - Executing 'Prediction with ONNX 1-0' immediately...\n",
       "</pre>\n"
      ],
      "text/plain": [
       "22:10:18.613 | \u001b[36mINFO\u001b[0m    | Flow run\u001b[35m 'petite-frigatebird'\u001b[0m - Executing 'Prediction with ONNX 1-0' immediately...\n"
      ]
     },
     "metadata": {},
     "output_type": "display_data"
    },
    {
     "data": {
      "text/html": [
       "<pre style=\"white-space:pre;overflow-x:auto;line-height:normal;font-family:Menlo,'DejaVu Sans Mono',consolas,'Courier New',monospace\">22:10:18.747 | <span style=\"color: #008080; text-decoration-color: #008080\">INFO</span>    | Task run 'Prediction with ONNX 1-0' - Finished in state <span style=\"color: #008000; text-decoration-color: #008000\">Completed</span>()\n",
       "</pre>\n"
      ],
      "text/plain": [
       "22:10:18.747 | \u001b[36mINFO\u001b[0m    | Task run 'Prediction with ONNX 1-0' - Finished in state \u001b[32mCompleted\u001b[0m()\n"
      ]
     },
     "metadata": {},
     "output_type": "display_data"
    },
    {
     "data": {
      "text/html": [
       "<pre style=\"white-space:pre;overflow-x:auto;line-height:normal;font-family:Menlo,'DejaVu Sans Mono',consolas,'Courier New',monospace\">22:10:18.798 | <span style=\"color: #008080; text-decoration-color: #008080\">INFO</span>    | Flow run<span style=\"color: #800080; text-decoration-color: #800080\"> 'petite-frigatebird'</span> - Finished in state <span style=\"color: #008000; text-decoration-color: #008000\">Completed</span>()\n",
       "</pre>\n"
      ],
      "text/plain": [
       "22:10:18.798 | \u001b[36mINFO\u001b[0m    | Flow run\u001b[35m 'petite-frigatebird'\u001b[0m - Finished in state \u001b[32mCompleted\u001b[0m()\n"
      ]
     },
     "metadata": {},
     "output_type": "display_data"
    }
   ],
   "source": [
    "unverifiable_predictions = execution()"
   ]
  },
  {
   "cell_type": "code",
   "execution_count": 35,
   "metadata": {},
   "outputs": [
    {
     "name": "stdout",
     "output_type": "stream",
     "text": [
      "unVerifiablePrediction: 0.1777561902999878\n"
     ]
    }
   ],
   "source": [
    "print(f\"unVerifiablePrediction: {unverifiable_predictions[0][0]}\")"
   ]
  },
  {
   "cell_type": "code",
   "execution_count": null,
   "metadata": {},
   "outputs": [],
   "source": []
  }
 ],
 "metadata": {
  "kernelspec": {
   "display_name": "Python 3",
   "language": "python",
   "name": "python3"
  },
  "language_info": {
   "codemirror_mode": {
    "name": "ipython",
    "version": 3
   },
   "file_extension": ".py",
   "mimetype": "text/x-python",
   "name": "python",
   "nbconvert_exporter": "python",
   "pygments_lexer": "ipython3",
   "version": "3.11.5"
  }
 },
 "nbformat": 4,
 "nbformat_minor": 2
}
